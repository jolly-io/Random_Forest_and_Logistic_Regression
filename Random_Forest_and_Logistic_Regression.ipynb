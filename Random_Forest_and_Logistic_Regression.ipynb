{
  "cells": [
    {
      "cell_type": "markdown",
      "id": "79fcb2a4",
      "metadata": {
        "id": "79fcb2a4"
      },
      "source": [
        "## Objective\n",
        "\n",
        "The primary objective of this project is to develop a robust classification model that will facilitate our client, AT&C, in accurately predicting the likelihood of customer churn. By leveraging technical and managerial insights gained from this model, our client will be empowered to proactively prevent customer churn, thereby ensuring the retention of both current and future customers. This strategic approach will not only drive revenue but also foster business growth for our client."
      ]
    },
    {
      "cell_type": "markdown",
      "id": "e33d586c",
      "metadata": {
        "id": "e33d586c"
      },
      "source": [
        "## Method of Analysis\n",
        "\n",
        "Our core method of analysis is the Logistic Regression model. In general we sequence our implementation by leveraging the data mining process in the following order:\n",
        "\n",
        "- Data preprocessing and Exploration: This involves the use of proper summary descriptive statistics and visualizations to understand the distribution of individual variables and relationship between two or more variables; duplicates analysis, outlier detection and or removal, missing values analysis, computation of new variables if necessary etc.\n",
        "- Dimension reduction: selection of a subset of variables for model building.\n",
        "- Data Partitioning: Creating Test and training dataset for K-fold Cross-Validation to evaluate model performance.\n",
        "- Model Building: building the logistic regression classification model\n",
        "- Model Evaluation: computation of metrics such as accuracy, sensitivity, specificity, precision etc.\n",
        "- Model Deployment"
      ]
    },
    {
      "cell_type": "markdown",
      "id": "2c1183e5",
      "metadata": {
        "id": "2c1183e5"
      },
      "source": [
        "## Data Description\n",
        "\n",
        "Originated from India, the dataset contains 13000 rows of customer data across 14 variables. The dataset includes various demographic, location, and usage pattern variables for each customer, as well as a binary variable indicating whether the customer has churned or not. We describe the data variables below:\n",
        "\n",
        "### Dependent Variable\n",
        "- churn: Binary variable indicating whether the customer has churned or not (1 = churned, 0 = not churned).\n",
        "\n",
        "### Independent Variables\n",
        "- customer_id: Unique identifier for each customer.\n",
        "- gender: The gender of the customer.\n",
        "- telecom_partner: The telecom partner associated with the customer.\n",
        "- age: The age of the customer.\n",
        "- state: The Indian state in which the customer is located.\n",
        "- city: The city in which the customer is located.\n",
        "- pincode: The pincode of the customer's location.\n",
        "- date_of_registration: The date on which the customer registered with the telecom partner.\n",
        "- num_dependents: The number of dependents (e.g. children) the customer has.\n",
        "- estimated_salary: The customer's estimated salary.\n",
        "- calls_made: The number of calls made by the customer.\n",
        "- sms_sent: The number of SMS messages sent by the customer.\n",
        "- data_used: The amount of data used by the customer."
      ]
    },
    {
      "cell_type": "markdown",
      "id": "c61cc3cc",
      "metadata": {
        "id": "c61cc3cc"
      },
      "source": [
        "## Duplicate Analysis\n",
        "In the next steps we implement analysis to solve for and manage any duplicates in the dataset"
      ]
    },
    {
      "cell_type": "code",
      "execution_count": null,
      "id": "9368872f",
      "metadata": {
        "colab": {
          "referenced_widgets": [
            "25917793ee674a3cb369d5a10d2f59c2",
            ""
          ]
        },
        "id": "9368872f",
        "outputId": "1d6232d5-8d21-47ab-b4c1-3f05b937c239"
      },
      "outputs": [
        {
          "data": {
            "application/vnd.jupyter.widget-view+json": {
              "model_id": "25917793ee674a3cb369d5a10d2f59c2",
              "version_major": 2,
              "version_minor": 0
            },
            "text/plain": [
              "VBox()"
            ]
          },
          "metadata": {},
          "output_type": "display_data"
        },
        {
          "name": "stdout",
          "output_type": "stream",
          "text": [
            "Starting Spark application\n"
          ]
        },
        {
          "data": {
            "text/html": [
              "<table>\n",
              "<tr><th>ID</th><th>YARN Application ID</th><th>Kind</th><th>State</th><th>Spark UI</th><th>Driver log</th><th>User</th><th>Current session?</th></tr><tr><td>5</td><td>application_1690843046081_0006</td><td>pyspark</td><td>idle</td><td><a target=\"_blank\" href=\"http://ip-172-31-10-83.ec2.internal:20888/proxy/application_1690843046081_0006/\" class=\"emr-proxy-link\" emr-resource=\"j-34TVN7UJKPIH7\n",
              "\" application-id=\"application_1690843046081_0006\">Link</a></td><td><a target=\"_blank\" href=\"http://ip-172-31-10-83.ec2.internal:8042/node/containerlogs/container_1690843046081_0006_01_000001/livy\" >Link</a></td><td>None</td><td>✔</td></tr></table>"
            ],
            "text/plain": [
              "<IPython.core.display.HTML object>"
            ]
          },
          "metadata": {},
          "output_type": "display_data"
        },
        {
          "data": {
            "application/vnd.jupyter.widget-view+json": {
              "model_id": "",
              "version_major": 2,
              "version_minor": 0
            },
            "text/plain": [
              "FloatProgress(value=0.0, bar_style='info', description='Progress:', layout=Layout(height='25px', width='50%'),…"
            ]
          },
          "metadata": {},
          "output_type": "display_data"
        },
        {
          "name": "stdout",
          "output_type": "stream",
          "text": [
            "SparkSession available as 'spark'.\n"
          ]
        },
        {
          "data": {
            "application/vnd.jupyter.widget-view+json": {
              "model_id": "",
              "version_major": 2,
              "version_minor": 0
            },
            "text/plain": [
              "FloatProgress(value=0.0, bar_style='info', description='Progress:', layout=Layout(height='25px', width='50%'),…"
            ]
          },
          "metadata": {},
          "output_type": "display_data"
        },
        {
          "name": "stdout",
          "output_type": "stream",
          "text": [
            "   customer_id telecom_partner gender  age    state       city  pincode date_of_registration  num_dependents  estimated_salary  calls_made  sms_sent  data_used  churn\n",
            "0       241859        Vodafone      M   58  Manipur  Bangalore   500407           2023-04-25               2             41014          61        45       9961      1\n",
            "1        17876          Airtel      M   59  Mizoram     Mumbai   507230           2020-03-30               0             92175          92        12       1140      0\n",
            "2        38273            BSNL      M   40    Bihar    Chennai   453495           2020-07-10               2            109436          82        19       -604      0\n",
            "/mnt1/yarn/usercache/livy/appcache/application_1690843046081_0006/container_1690843046081_0006_01_000001/pyspark.zip/pyspark/pandas/__init__.py:50: UserWarning: 'PYARROW_IGNORE_TIMEZONE' environment variable was not set. It is required to set this environment variable to '1' in both driver and executor sides if you use pyarrow>=2.0.0. pandas-on-Spark will set it for you but it does not work if there is a Spark context already launched.\n",
            "/mnt1/yarn/usercache/livy/appcache/application_1690843046081_0006/container_1690843046081_0006_01_000001/pyspark.zip/pyspark/pandas/utils.py:975: PandasAPIOnSparkAdviceWarning: If `index_col` is not specified for `read_csv`, the default index is attached which can cause additional overhead."
          ]
        }
      ],
      "source": [
        "# first we provision the required libraries to import our dataset below\n",
        "import pyspark.pandas as ps\n",
        "import numpy as np\n",
        "data = ps.read_csv('s3://jiogboles3private/spark/new_telcom_churn.csv')\n",
        "data.head(3)"
      ]
    },
    {
      "cell_type": "code",
      "execution_count": null,
      "id": "0a874c7c",
      "metadata": {
        "colab": {
          "referenced_widgets": [
            "89a79a3d93e84ee8bc59cc960bb534f8",
            ""
          ]
        },
        "id": "0a874c7c",
        "outputId": "8c64347f-904a-4b48-942f-e71575c8c425"
      },
      "outputs": [
        {
          "data": {
            "application/vnd.jupyter.widget-view+json": {
              "model_id": "89a79a3d93e84ee8bc59cc960bb534f8",
              "version_major": 2,
              "version_minor": 0
            },
            "text/plain": [
              "VBox()"
            ]
          },
          "metadata": {},
          "output_type": "display_data"
        },
        {
          "data": {
            "application/vnd.jupyter.widget-view+json": {
              "model_id": "",
              "version_major": 2,
              "version_minor": 0
            },
            "text/plain": [
              "FloatProgress(value=0.0, bar_style='info', description='Progress:', layout=Layout(height='25px', width='50%'),…"
            ]
          },
          "metadata": {},
          "output_type": "display_data"
        },
        {
          "name": "stdout",
          "output_type": "stream",
          "text": [
            "(13000, 14)"
          ]
        }
      ],
      "source": [
        "# Here we'd like to confirm the dimension i.e number of rows and columns in the dataset after dropping the customerID\n",
        "# column\n",
        "data.shape"
      ]
    },
    {
      "cell_type": "markdown",
      "id": "fd27e5be",
      "metadata": {
        "id": "fd27e5be"
      },
      "source": [
        "As seen above, the code output confirms that we have 13000 observations and 14 variables"
      ]
    },
    {
      "cell_type": "code",
      "execution_count": null,
      "id": "7a77812b",
      "metadata": {
        "scrolled": true,
        "colab": {
          "referenced_widgets": [
            "1d6d42462a33429181e90395cef19900",
            ""
          ]
        },
        "id": "7a77812b",
        "outputId": "5d09c5a8-70a1-4442-9253-c8438224ee7f"
      },
      "outputs": [
        {
          "data": {
            "application/vnd.jupyter.widget-view+json": {
              "model_id": "1d6d42462a33429181e90395cef19900",
              "version_major": 2,
              "version_minor": 0
            },
            "text/plain": [
              "VBox()"
            ]
          },
          "metadata": {},
          "output_type": "display_data"
        },
        {
          "data": {
            "application/vnd.jupyter.widget-view+json": {
              "model_id": "",
              "version_major": 2,
              "version_minor": 0
            },
            "text/plain": [
              "FloatProgress(value=0.0, bar_style='info', description='Progress:', layout=Layout(height='25px', width='50%'),…"
            ]
          },
          "metadata": {},
          "output_type": "display_data"
        },
        {
          "name": "stdout",
          "output_type": "stream",
          "text": [
            "13000 13000\n",
            "/mnt1/yarn/usercache/livy/appcache/application_1690843046081_0006/container_1690843046081_0006_01_000001/pyspark.zip/pyspark/pandas/utils.py:975: PandasAPIOnSparkAdviceWarning: If `index_col` is not specified for `to_spark`, the existing index is lost when converting to Spark DataFrame.\n",
            "  warnings.warn(message, PandasAPIOnSparkAdviceWarning)"
          ]
        }
      ],
      "source": [
        "# Next we run the code to check if there are any duplicates in the dataset\n",
        "print(data.shape[0], data.to_spark().distinct().count())"
      ]
    },
    {
      "cell_type": "markdown",
      "id": "84dd814e",
      "metadata": {
        "id": "84dd814e"
      },
      "source": [
        "The output of the code above shows that all rows of the dataset are unique, as such there are not duplicates in the dataset."
      ]
    },
    {
      "cell_type": "markdown",
      "id": "d8fa0926",
      "metadata": {
        "id": "d8fa0926"
      },
      "source": [
        "## Missing Values Analysis\n",
        "\n",
        "Next we check for missing or NA values in the dataset."
      ]
    },
    {
      "cell_type": "code",
      "execution_count": null,
      "id": "e9177a5f",
      "metadata": {
        "colab": {
          "referenced_widgets": [
            "366612bd9f364cfc8f156c98a49f8259",
            ""
          ]
        },
        "id": "e9177a5f",
        "outputId": "b047073c-830e-49ee-b9a3-f6f728b1fcfe"
      },
      "outputs": [
        {
          "data": {
            "application/vnd.jupyter.widget-view+json": {
              "model_id": "366612bd9f364cfc8f156c98a49f8259",
              "version_major": 2,
              "version_minor": 0
            },
            "text/plain": [
              "VBox()"
            ]
          },
          "metadata": {},
          "output_type": "display_data"
        },
        {
          "data": {
            "application/vnd.jupyter.widget-view+json": {
              "model_id": "",
              "version_major": 2,
              "version_minor": 0
            },
            "text/plain": [
              "FloatProgress(value=0.0, bar_style='info', description='Progress:', layout=Layout(height='25px', width='50%'),…"
            ]
          },
          "metadata": {},
          "output_type": "display_data"
        },
        {
          "name": "stdout",
          "output_type": "stream",
          "text": [
            "0"
          ]
        }
      ],
      "source": [
        "#We run the following code to check if there are any empty or null values in the dataset\n",
        "x = data.isna().sum(axis=1)\n",
        "x[x >= 1].shape[0]"
      ]
    },
    {
      "cell_type": "markdown",
      "id": "9cada80e",
      "metadata": {
        "id": "9cada80e"
      },
      "source": [
        "The output of the code above returns a count of 0, implying that there are zero i.e no missing values in the dataset. Let's continue..."
      ]
    },
    {
      "cell_type": "markdown",
      "id": "c080d537",
      "metadata": {
        "id": "c080d537"
      },
      "source": [
        "## Descriptive Statistics\n",
        "\n",
        "Next we generate descriptive statistics below:"
      ]
    },
    {
      "cell_type": "code",
      "execution_count": null,
      "id": "928fa34c",
      "metadata": {
        "colab": {
          "referenced_widgets": [
            "e1fb8ad484f64b2ab1b21df62547eda5",
            ""
          ]
        },
        "id": "928fa34c",
        "outputId": "b039b4df-85fc-4ce4-e4db-1034f3e7eec5"
      },
      "outputs": [
        {
          "data": {
            "application/vnd.jupyter.widget-view+json": {
              "model_id": "e1fb8ad484f64b2ab1b21df62547eda5",
              "version_major": 2,
              "version_minor": 0
            },
            "text/plain": [
              "VBox()"
            ]
          },
          "metadata": {},
          "output_type": "display_data"
        },
        {
          "data": {
            "application/vnd.jupyter.widget-view+json": {
              "model_id": "",
              "version_major": 2,
              "version_minor": 0
            },
            "text/plain": [
              "FloatProgress(value=0.0, bar_style='info', description='Progress:', layout=Layout(height='25px', width='50%'),…"
            ]
          },
          "metadata": {},
          "output_type": "display_data"
        },
        {
          "name": "stdout",
          "output_type": "stream",
          "text": [
            "         customer_id          age        pincode        date_of_registration  num_dependents  estimated_salary    calls_made      sms_sent     data_used         churn\n",
            "count   13000.000000  13000.00000   13000.000000                       13000     13000.00000      13000.000000  13000.000000  13000.000000  13000.000000  13000.000000\n",
            "mean   122449.000000     46.00000  544247.000000  2021-09-04 08:49:35.261538         1.00000      85388.000000     48.000000     23.000000   5033.000000      0.000000\n",
            "min         6.000000     18.00000  100020.000000         2020-01-01 00:00:00         0.00000      20004.000000    -10.000000     -5.000000   -955.000000      0.000000\n",
            "25%     62181.000000     32.00000  319563.000000         2020-11-07 00:00:00         1.00000      53154.000000     24.000000     11.000000   2515.000000      0.000000\n",
            "50%    122235.000000     46.00000  541106.000000         2021-09-03 00:00:00         2.00000      85251.000000     49.000000     24.000000   5043.000000      0.000000\n",
            "75%    183603.000000     61.00000  767513.000000         2022-07-07 00:00:00         3.00000     118089.000000     73.000000     36.000000   7576.000000      0.000000\n",
            "max    243550.000000     74.00000  999872.000000         2023-05-03 00:00:00         4.00000     149997.000000    108.000000     53.000000  10925.000000      1.000000\n",
            "std     70289.169404     16.47206  259782.402896                        None         1.41871      37520.533624     29.239086     14.647663   2948.486764      0.400015"
          ]
        }
      ],
      "source": [
        "#we run the code below to generate descriptive stats\n",
        "descriptive_stats = data.describe()\n",
        "descriptive_stats"
      ]
    },
    {
      "cell_type": "markdown",
      "id": "ed683bea",
      "metadata": {
        "id": "ed683bea"
      },
      "source": [
        "Overall the descriptive statistics seem relatively regular with a few numbers appearing to standout as potential outliers liers or error imputs. for instance the minimum of the \"calls_made\" is a negative number which is not intuitive in this context. It's not possible to make negative amount of calls. we'll further investigate in the outlier section."
      ]
    },
    {
      "cell_type": "markdown",
      "id": "6be74f66",
      "metadata": {
        "id": "6be74f66"
      },
      "source": [
        "## Visualization\n",
        "Next, we visualize the dataset for categorical and numerical variables."
      ]
    },
    {
      "cell_type": "markdown",
      "id": "dfc1f996",
      "metadata": {
        "id": "dfc1f996"
      },
      "source": [
        "### Numerical Variables Visualization\n",
        "For numerical variables, we generate histograms using the process below:"
      ]
    },
    {
      "cell_type": "code",
      "execution_count": null,
      "id": "9eae12f2",
      "metadata": {
        "colab": {
          "referenced_widgets": [
            "b37c50bf65714fccaf0813e50394b478",
            ""
          ]
        },
        "id": "9eae12f2",
        "outputId": "5c03a0db-c0a7-4bfa-c8d9-a569f2a1d82e"
      },
      "outputs": [
        {
          "data": {
            "application/vnd.jupyter.widget-view+json": {
              "model_id": "b37c50bf65714fccaf0813e50394b478",
              "version_major": 2,
              "version_minor": 0
            },
            "text/plain": [
              "VBox()"
            ]
          },
          "metadata": {},
          "output_type": "display_data"
        },
        {
          "data": {
            "application/vnd.jupyter.widget-view+json": {
              "model_id": "",
              "version_major": 2,
              "version_minor": 0
            },
            "text/plain": [
              "FloatProgress(value=0.0, bar_style='info', description='Progress:', layout=Layout(height='25px', width='50%'),…"
            ]
          },
          "metadata": {},
          "output_type": "display_data"
        }
      ],
      "source": [
        "#first we write the code below that defines a function to plot histograms for each numerical variable in the dataset\n",
        "def plot_hist(data, features, n_rows, n_cols):\n",
        "    fig, ax = plt.subplots(n_rows, n_cols)\n",
        "    fig.tight_layout(pad=2.2)\n",
        "    for i in range(len(features)):\n",
        "        data[features[i]].hist(ax=ax[i//n_cols, i%n_cols], title=features[i])"
      ]
    },
    {
      "cell_type": "code",
      "execution_count": null,
      "id": "68f5ab3a",
      "metadata": {
        "scrolled": true,
        "colab": {
          "referenced_widgets": [
            "f3f91e4fff2e423e942b7150acc05828",
            ""
          ]
        },
        "id": "68f5ab3a",
        "outputId": "cddf1d02-8eea-4cc5-f177-945f8c9c8f3e"
      },
      "outputs": [
        {
          "data": {
            "application/vnd.jupyter.widget-view+json": {
              "model_id": "f3f91e4fff2e423e942b7150acc05828",
              "version_major": 2,
              "version_minor": 0
            },
            "text/plain": [
              "VBox()"
            ]
          },
          "metadata": {},
          "output_type": "display_data"
        },
        {
          "data": {
            "application/vnd.jupyter.widget-view+json": {
              "model_id": "",
              "version_major": 2,
              "version_minor": 0
            },
            "text/plain": [
              "FloatProgress(value=0.0, bar_style='info', description='Progress:', layout=Layout(height='25px', width='50%'),…"
            ]
          },
          "metadata": {},
          "output_type": "display_data"
        }
      ],
      "source": [
        "# The code below provisions the required libraries for visualization\n",
        "import matplotlib.pyplot as plt\n",
        "ps.set_option('plotting.backend', 'matplotlib')"
      ]
    },
    {
      "cell_type": "code",
      "execution_count": null,
      "id": "838a4b7b",
      "metadata": {
        "scrolled": true,
        "colab": {
          "referenced_widgets": [
            "33c2014883594144a352006e62a9c596",
            ""
          ]
        },
        "id": "838a4b7b",
        "outputId": "3d162a85-edc8-4af2-e197-11db76a52b89"
      },
      "outputs": [
        {
          "data": {
            "application/vnd.jupyter.widget-view+json": {
              "model_id": "33c2014883594144a352006e62a9c596",
              "version_major": 2,
              "version_minor": 0
            },
            "text/plain": [
              "VBox()"
            ]
          },
          "metadata": {},
          "output_type": "display_data"
        },
        {
          "data": {
            "application/vnd.jupyter.widget-view+json": {
              "model_id": "",
              "version_major": 2,
              "version_minor": 0
            },
            "text/plain": [
              "FloatProgress(value=0.0, bar_style='info', description='Progress:', layout=Layout(height='25px', width='50%'),…"
            ]
          },
          "metadata": {},
          "output_type": "display_data"
        },
        {
          "data": {
            "image/png": "[encoded data removed]",
            "text/plain": [
              "<IPython.core.display.Image object>"
            ]
          },
          "metadata": {},
          "output_type": "display_data"
        }
      ],
      "source": [
        "# In the code below we create a variable list of the numerical variables and call the function on the list to create\n",
        "# the histogram for each variable\n",
        "features = ['age', 'num_dependents','estimated_salary','calls_made', 'data_used', 'sms_sent']\n",
        "plot_hist(data=data, features=features, n_rows=2, n_cols=3)\n",
        "%matplot plt"
      ]
    },
    {
      "cell_type": "markdown",
      "id": "676a5ef6",
      "metadata": {
        "id": "676a5ef6"
      },
      "source": [
        "### Visualizing Interaction between numerical variables using Scatter Plots"
      ]
    },
    {
      "cell_type": "code",
      "execution_count": null,
      "id": "6b995f7f",
      "metadata": {
        "colab": {
          "referenced_widgets": [
            "28e2f771b5804758861ad33e861d90ea",
            ""
          ]
        },
        "id": "6b995f7f",
        "outputId": "dbfa4528-f214-48f6-b23e-4f4a3d2f9496"
      },
      "outputs": [
        {
          "data": {
            "application/vnd.jupyter.widget-view+json": {
              "model_id": "28e2f771b5804758861ad33e861d90ea",
              "version_major": 2,
              "version_minor": 0
            },
            "text/plain": [
              "VBox()"
            ]
          },
          "metadata": {},
          "output_type": "display_data"
        },
        {
          "data": {
            "application/vnd.jupyter.widget-view+json": {
              "model_id": "",
              "version_major": 2,
              "version_minor": 0
            },
            "text/plain": [
              "FloatProgress(value=0.0, bar_style='info', description='Progress:', layout=Layout(height='25px', width='50%'),…"
            ]
          },
          "metadata": {},
          "output_type": "display_data"
        },
        {
          "data": {
            "image/png": "[encoded data removed]",
            "text/plain": [
              "<IPython.core.display.Image object>"
            ]
          },
          "metadata": {},
          "output_type": "display_data"
        }
      ],
      "source": [
        "#we run the code below to visualize the relationship between the no of calls made and amount of data used\n",
        "data.plot.scatter('calls_made', 'data_used')\n",
        "%matplot plt"
      ]
    },
    {
      "cell_type": "markdown",
      "id": "61a60e1f",
      "metadata": {
        "id": "61a60e1f"
      },
      "source": [
        "The scatterplot above shows a clustering of certain points which might suggest that type of association between the variables. however the relationship as can be seen does not seeem to follow any positive or negative pattern"
      ]
    },
    {
      "cell_type": "code",
      "execution_count": null,
      "id": "3c23699d",
      "metadata": {
        "colab": {
          "referenced_widgets": [
            "e5798ecfeae3445d87af547d7d5df291",
            ""
          ]
        },
        "id": "3c23699d",
        "outputId": "f93ae90d-21e3-47e2-d390-be4669caf28c"
      },
      "outputs": [
        {
          "data": {
            "application/vnd.jupyter.widget-view+json": {
              "model_id": "e5798ecfeae3445d87af547d7d5df291",
              "version_major": 2,
              "version_minor": 0
            },
            "text/plain": [
              "VBox()"
            ]
          },
          "metadata": {},
          "output_type": "display_data"
        },
        {
          "data": {
            "application/vnd.jupyter.widget-view+json": {
              "model_id": "",
              "version_major": 2,
              "version_minor": 0
            },
            "text/plain": [
              "FloatProgress(value=0.0, bar_style='info', description='Progress:', layout=Layout(height='25px', width='50%'),…"
            ]
          },
          "metadata": {},
          "output_type": "display_data"
        },
        {
          "data": {
            "image/png": "[encoded data removed]",
            "text/plain": [
              "<IPython.core.display.Image object>"
            ]
          },
          "metadata": {},
          "output_type": "display_data"
        }
      ],
      "source": [
        "#we run the code below to visualize the relationship between the no of data_used and sms_sent\n",
        "data.plot.scatter('data_used', 'sms_sent')\n",
        "%matplot plt"
      ]
    },
    {
      "cell_type": "markdown",
      "id": "eec8ce45",
      "metadata": {
        "id": "eec8ce45"
      },
      "source": [
        "The scatterplot above shows a clustering of certain points which might suggest that type of association between the variables. however the relationship as can be seen does not seeem to follow any positive or negative pattern"
      ]
    },
    {
      "cell_type": "code",
      "execution_count": null,
      "id": "51d417bd",
      "metadata": {
        "colab": {
          "referenced_widgets": [
            "0f355f47289743a396e0edb6df5e99b7",
            ""
          ]
        },
        "id": "51d417bd",
        "outputId": "33e440c0-1a82-488c-cd9a-670b869f2b53"
      },
      "outputs": [
        {
          "data": {
            "application/vnd.jupyter.widget-view+json": {
              "model_id": "0f355f47289743a396e0edb6df5e99b7",
              "version_major": 2,
              "version_minor": 0
            },
            "text/plain": [
              "VBox()"
            ]
          },
          "metadata": {},
          "output_type": "display_data"
        },
        {
          "data": {
            "application/vnd.jupyter.widget-view+json": {
              "model_id": "",
              "version_major": 2,
              "version_minor": 0
            },
            "text/plain": [
              "FloatProgress(value=0.0, bar_style='info', description='Progress:', layout=Layout(height='25px', width='50%'),…"
            ]
          },
          "metadata": {},
          "output_type": "display_data"
        },
        {
          "data": {
            "image/png": "[encoded data removed]",
            "text/plain": [
              "<IPython.core.display.Image object>"
            ]
          },
          "metadata": {},
          "output_type": "display_data"
        }
      ],
      "source": [
        "#we run the code below to visualize the relationship between age and estimated salary\n",
        "data.plot.scatter('age', 'estimated_salary')\n",
        "%matplot plt"
      ]
    },
    {
      "cell_type": "markdown",
      "id": "3c719119",
      "metadata": {
        "id": "3c719119"
      },
      "source": [
        "The scatterplot above shows a clustering of certain points which might suggest that type of association between the variables. however the relationship as can be seen does not seeem to follow any positive or negative pattern"
      ]
    },
    {
      "cell_type": "code",
      "execution_count": null,
      "id": "af96b9dd",
      "metadata": {
        "colab": {
          "referenced_widgets": [
            "2d2accf9d8554606acff473b30f11fa9",
            ""
          ]
        },
        "id": "af96b9dd",
        "outputId": "f0883f05-4e2a-449e-b74d-6d20ab2f978c"
      },
      "outputs": [
        {
          "data": {
            "application/vnd.jupyter.widget-view+json": {
              "model_id": "2d2accf9d8554606acff473b30f11fa9",
              "version_major": 2,
              "version_minor": 0
            },
            "text/plain": [
              "VBox()"
            ]
          },
          "metadata": {},
          "output_type": "display_data"
        },
        {
          "data": {
            "application/vnd.jupyter.widget-view+json": {
              "model_id": "",
              "version_major": 2,
              "version_minor": 0
            },
            "text/plain": [
              "FloatProgress(value=0.0, bar_style='info', description='Progress:', layout=Layout(height='25px', width='50%'),…"
            ]
          },
          "metadata": {},
          "output_type": "display_data"
        },
        {
          "data": {
            "image/png": "[encoded data removed]",
            "text/plain": [
              "<IPython.core.display.Image object>"
            ]
          },
          "metadata": {},
          "output_type": "display_data"
        }
      ],
      "source": [
        "#we run the code below to visualize the relationship between the no of calls made and sms_sent\n",
        "data.plot.scatter('calls_made', 'sms_sent')\n",
        "%matplot plt"
      ]
    },
    {
      "cell_type": "markdown",
      "id": "95cf2ae1",
      "metadata": {
        "id": "95cf2ae1"
      },
      "source": [
        "The scatterplot above shows a clustering of certain points which might suggest that type of association between the variables. however the relationship as can be seen does not seeem to follow any positive or negative pattern"
      ]
    },
    {
      "cell_type": "markdown",
      "id": "bad76db9",
      "metadata": {
        "id": "bad76db9"
      },
      "source": [
        "### Categorical Variables Visualization\n",
        "\n",
        "Below we generate barcharts for the categorical variables using the process below"
      ]
    },
    {
      "cell_type": "code",
      "execution_count": null,
      "id": "6ec98a5d",
      "metadata": {
        "colab": {
          "referenced_widgets": [
            "d89dda4fdacc483ba77f44e50adfe15f",
            ""
          ]
        },
        "id": "6ec98a5d",
        "outputId": "80c05a67-bb81-4580-b5ce-7e22aa09adff"
      },
      "outputs": [
        {
          "data": {
            "application/vnd.jupyter.widget-view+json": {
              "model_id": "d89dda4fdacc483ba77f44e50adfe15f",
              "version_major": 2,
              "version_minor": 0
            },
            "text/plain": [
              "VBox()"
            ]
          },
          "metadata": {},
          "output_type": "display_data"
        },
        {
          "data": {
            "application/vnd.jupyter.widget-view+json": {
              "model_id": "",
              "version_major": 2,
              "version_minor": 0
            },
            "text/plain": [
              "FloatProgress(value=0.0, bar_style='info', description='Progress:', layout=Layout(height='25px', width='50%'),…"
            ]
          },
          "metadata": {},
          "output_type": "display_data"
        }
      ],
      "source": [
        "#we write the code below to define a function to create bar charts of the categorical variables\n",
        "import matplotlib.pyplot as plt\n",
        "\n",
        "def plot_barchart(data, column):\n",
        "    value_counts = data[column].value_counts()\n",
        "    plt.figure(figsize=(12, 6))  # Adjust the figure size as needed\n",
        "    ax = value_counts.plot(kind='bar')\n",
        "    ax.set_xlabel(column)\n",
        "    ax.set_ylabel('Count')\n",
        "    ax.set_title(f'Bar Chart of {column}')\n",
        "    plt.xticks(rotation=90)  # Rotate x-axis labels for better visibility\n",
        "    plt.show()"
      ]
    },
    {
      "cell_type": "code",
      "execution_count": null,
      "id": "a76f628b",
      "metadata": {
        "scrolled": true,
        "colab": {
          "referenced_widgets": [
            "480c616d3fa1449ba64c1fb70ae6d545",
            ""
          ]
        },
        "id": "a76f628b",
        "outputId": "e05ba4fe-5d2c-458c-c11d-b43ffe043f85"
      },
      "outputs": [
        {
          "data": {
            "application/vnd.jupyter.widget-view+json": {
              "model_id": "480c616d3fa1449ba64c1fb70ae6d545",
              "version_major": 2,
              "version_minor": 0
            },
            "text/plain": [
              "VBox()"
            ]
          },
          "metadata": {},
          "output_type": "display_data"
        },
        {
          "data": {
            "application/vnd.jupyter.widget-view+json": {
              "model_id": "",
              "version_major": 2,
              "version_minor": 0
            },
            "text/plain": [
              "FloatProgress(value=0.0, bar_style='info', description='Progress:', layout=Layout(height='25px', width='50%'),…"
            ]
          },
          "metadata": {},
          "output_type": "display_data"
        },
        {
          "data": {
            "image/png": "[encoded data removed]",
            "text/plain": [
              "<IPython.core.display.Image object>"
            ]
          },
          "metadata": {},
          "output_type": "display_data"
        }
      ],
      "source": [
        "#we run the code below to create a barchart for telecom_partner variable\n",
        "plot_barchart(data, 'telecom_partner')\n",
        "%matplot plt"
      ]
    },
    {
      "cell_type": "markdown",
      "id": "ece142be",
      "metadata": {
        "id": "ece142be"
      },
      "source": [
        "The barchart above shows a more or less even distribution of the the four telecom partners"
      ]
    },
    {
      "cell_type": "code",
      "execution_count": null,
      "id": "60f89420",
      "metadata": {
        "colab": {
          "referenced_widgets": [
            "59876aaa665a4955b82de1b5d16c2aea",
            ""
          ]
        },
        "id": "60f89420",
        "outputId": "39d45282-3bc9-480e-9472-9772fe65c569"
      },
      "outputs": [
        {
          "data": {
            "application/vnd.jupyter.widget-view+json": {
              "model_id": "59876aaa665a4955b82de1b5d16c2aea",
              "version_major": 2,
              "version_minor": 0
            },
            "text/plain": [
              "VBox()"
            ]
          },
          "metadata": {},
          "output_type": "display_data"
        },
        {
          "data": {
            "application/vnd.jupyter.widget-view+json": {
              "model_id": "",
              "version_major": 2,
              "version_minor": 0
            },
            "text/plain": [
              "FloatProgress(value=0.0, bar_style='info', description='Progress:', layout=Layout(height='25px', width='50%'),…"
            ]
          },
          "metadata": {},
          "output_type": "display_data"
        },
        {
          "data": {
            "image/png": "[encoded data removed]",
            "text/plain": [
              "<IPython.core.display.Image object>"
            ]
          },
          "metadata": {},
          "output_type": "display_data"
        }
      ],
      "source": [
        "#we run the code below to create a barchart for gender variable\n",
        "plot_barchart(data, 'gender')\n",
        "%matplot plt"
      ]
    },
    {
      "cell_type": "markdown",
      "id": "3166df0b",
      "metadata": {
        "id": "3166df0b"
      },
      "source": [
        "The barchart shows that there are more male than female represented in the dataset"
      ]
    },
    {
      "cell_type": "code",
      "execution_count": null,
      "id": "046f7ea9",
      "metadata": {
        "colab": {
          "referenced_widgets": [
            "6593cd521e364d61b469e0483e213744",
            ""
          ]
        },
        "id": "046f7ea9",
        "outputId": "3a5622a7-fd30-4ee2-8687-c0ba7374efef"
      },
      "outputs": [
        {
          "data": {
            "application/vnd.jupyter.widget-view+json": {
              "model_id": "6593cd521e364d61b469e0483e213744",
              "version_major": 2,
              "version_minor": 0
            },
            "text/plain": [
              "VBox()"
            ]
          },
          "metadata": {},
          "output_type": "display_data"
        },
        {
          "data": {
            "application/vnd.jupyter.widget-view+json": {
              "model_id": "",
              "version_major": 2,
              "version_minor": 0
            },
            "text/plain": [
              "FloatProgress(value=0.0, bar_style='info', description='Progress:', layout=Layout(height='25px', width='50%'),…"
            ]
          },
          "metadata": {},
          "output_type": "display_data"
        },
        {
          "data": {
            "image/png": "[encoded data removed]",
            "text/plain": [
              "<IPython.core.display.Image object>"
            ]
          },
          "metadata": {},
          "output_type": "display_data"
        }
      ],
      "source": [
        "#we run the code below to create a barchart for state variable\n",
        "plot_barchart(data, 'state')\n",
        "%matplot plt"
      ]
    },
    {
      "cell_type": "code",
      "execution_count": null,
      "id": "ec662515",
      "metadata": {
        "scrolled": true,
        "colab": {
          "referenced_widgets": [
            "348f3062e3a84d5ebd8dc3766bbb419f",
            ""
          ]
        },
        "id": "ec662515",
        "outputId": "20d2facb-1717-477d-cd7d-44d8ffa8d2a9"
      },
      "outputs": [
        {
          "data": {
            "application/vnd.jupyter.widget-view+json": {
              "model_id": "348f3062e3a84d5ebd8dc3766bbb419f",
              "version_major": 2,
              "version_minor": 0
            },
            "text/plain": [
              "VBox()"
            ]
          },
          "metadata": {},
          "output_type": "display_data"
        },
        {
          "data": {
            "application/vnd.jupyter.widget-view+json": {
              "model_id": "",
              "version_major": 2,
              "version_minor": 0
            },
            "text/plain": [
              "FloatProgress(value=0.0, bar_style='info', description='Progress:', layout=Layout(height='25px', width='50%'),…"
            ]
          },
          "metadata": {},
          "output_type": "display_data"
        },
        {
          "data": {
            "image/png": "[encoded data removed]",
            "text/plain": [
              "<IPython.core.display.Image object>"
            ]
          },
          "metadata": {},
          "output_type": "display_data"
        }
      ],
      "source": [
        "#we run the code below to create a barchart for city variable\n",
        "plot_barchart(data, 'city')\n",
        "%matplot plt"
      ]
    },
    {
      "cell_type": "code",
      "execution_count": null,
      "id": "a26f7d1b",
      "metadata": {
        "colab": {
          "referenced_widgets": [
            "05b6f5c492564054981c4e3a07e0e1b7",
            ""
          ]
        },
        "id": "a26f7d1b",
        "outputId": "986e81da-ac8f-4526-90db-5fe040d3f40a"
      },
      "outputs": [
        {
          "data": {
            "application/vnd.jupyter.widget-view+json": {
              "model_id": "05b6f5c492564054981c4e3a07e0e1b7",
              "version_major": 2,
              "version_minor": 0
            },
            "text/plain": [
              "VBox()"
            ]
          },
          "metadata": {},
          "output_type": "display_data"
        },
        {
          "data": {
            "application/vnd.jupyter.widget-view+json": {
              "model_id": "",
              "version_major": 2,
              "version_minor": 0
            },
            "text/plain": [
              "FloatProgress(value=0.0, bar_style='info', description='Progress:', layout=Layout(height='25px', width='50%'),…"
            ]
          },
          "metadata": {},
          "output_type": "display_data"
        },
        {
          "data": {
            "image/png": "[encoded data removed]",
            "text/plain": [
              "<IPython.core.display.Image object>"
            ]
          },
          "metadata": {},
          "output_type": "display_data"
        }
      ],
      "source": [
        "##we run the code below to create a barchart for churn variable\n",
        "plot_barchart(data, 'churn')\n",
        "%matplot plt"
      ]
    },
    {
      "cell_type": "markdown",
      "id": "1ad4c812",
      "metadata": {
        "id": "1ad4c812"
      },
      "source": [
        "The barchart above shows a larger proportion of customers churned than did not"
      ]
    },
    {
      "cell_type": "markdown",
      "id": "d958569e",
      "metadata": {
        "id": "d958569e"
      },
      "source": [
        "## Outliers\n",
        "Next, we check and solve for outliers below following the process below"
      ]
    },
    {
      "cell_type": "code",
      "execution_count": null,
      "id": "dee654c5",
      "metadata": {
        "scrolled": false,
        "colab": {
          "referenced_widgets": [
            "20d279848ec14aacb8e937a5af610678",
            ""
          ]
        },
        "id": "dee654c5",
        "outputId": "11045896-8b3f-4b7e-a0db-f074f555d1ab"
      },
      "outputs": [
        {
          "data": {
            "application/vnd.jupyter.widget-view+json": {
              "model_id": "20d279848ec14aacb8e937a5af610678",
              "version_major": 2,
              "version_minor": 0
            },
            "text/plain": [
              "VBox()"
            ]
          },
          "metadata": {},
          "output_type": "display_data"
        },
        {
          "data": {
            "application/vnd.jupyter.widget-view+json": {
              "model_id": "",
              "version_major": 2,
              "version_minor": 0
            },
            "text/plain": [
              "FloatProgress(value=0.0, bar_style='info', description='Progress:', layout=Layout(height='25px', width='50%'),…"
            ]
          },
          "metadata": {},
          "output_type": "display_data"
        },
        {
          "name": "stdout",
          "output_type": "stream",
          "text": [
            "/mnt1/yarn/usercache/livy/appcache/application_1690843046081_0006/container_1690843046081_0006_01_000001/pyspark.zip/pyspark/pandas/utils.py:975: PandasAPIOnSparkAdviceWarning: If `index_col` is not specified for `to_spark`, the existing index is lost when converting to Spark DataFrame.\n",
            "  warnings.warn(message, PandasAPIOnSparkAdviceWarning)"
          ]
        }
      ],
      "source": [
        "#we run the code below to intitialize a spark dataframe\n",
        "data = data.to_spark()"
      ]
    },
    {
      "cell_type": "code",
      "execution_count": null,
      "id": "7ba79d1f",
      "metadata": {
        "colab": {
          "referenced_widgets": [
            "a0fc85102b8e4fb9b3bd7833dbf6788f",
            ""
          ]
        },
        "id": "7ba79d1f",
        "outputId": "99faf963-b240-4410-d831-bcb04eab7b51"
      },
      "outputs": [
        {
          "data": {
            "application/vnd.jupyter.widget-view+json": {
              "model_id": "a0fc85102b8e4fb9b3bd7833dbf6788f",
              "version_major": 2,
              "version_minor": 0
            },
            "text/plain": [
              "VBox()"
            ]
          },
          "metadata": {},
          "output_type": "display_data"
        },
        {
          "data": {
            "application/vnd.jupyter.widget-view+json": {
              "model_id": "",
              "version_major": 2,
              "version_minor": 0
            },
            "text/plain": [
              "FloatProgress(value=0.0, bar_style='info', description='Progress:', layout=Layout(height='25px', width='50%'),…"
            ]
          },
          "metadata": {},
          "output_type": "display_data"
        }
      ],
      "source": [
        "from pyspark.sql import SparkSession"
      ]
    },
    {
      "cell_type": "code",
      "execution_count": null,
      "id": "cfdcb255",
      "metadata": {
        "colab": {
          "referenced_widgets": [
            "8f38af8eac2c42988d779969d2a83cec",
            ""
          ]
        },
        "id": "cfdcb255",
        "outputId": "538b47dd-c167-433c-80de-3e13f7829a6a"
      },
      "outputs": [
        {
          "data": {
            "application/vnd.jupyter.widget-view+json": {
              "model_id": "8f38af8eac2c42988d779969d2a83cec",
              "version_major": 2,
              "version_minor": 0
            },
            "text/plain": [
              "VBox()"
            ]
          },
          "metadata": {},
          "output_type": "display_data"
        },
        {
          "data": {
            "application/vnd.jupyter.widget-view+json": {
              "model_id": "",
              "version_major": 2,
              "version_minor": 0
            },
            "text/plain": [
              "FloatProgress(value=0.0, bar_style='info', description='Progress:', layout=Layout(height='25px', width='50%'),…"
            ]
          },
          "metadata": {},
          "output_type": "display_data"
        }
      ],
      "source": [
        "spark = SparkSession.builder.getOrCreate()"
      ]
    },
    {
      "cell_type": "code",
      "execution_count": null,
      "id": "b8ee95db",
      "metadata": {
        "colab": {
          "referenced_widgets": [
            "a481667217914e7b97e52d222295e8cf",
            ""
          ]
        },
        "id": "b8ee95db",
        "outputId": "6f81823f-6764-4e2a-87c5-6f2707e07b2e"
      },
      "outputs": [
        {
          "data": {
            "application/vnd.jupyter.widget-view+json": {
              "model_id": "a481667217914e7b97e52d222295e8cf",
              "version_major": 2,
              "version_minor": 0
            },
            "text/plain": [
              "VBox()"
            ]
          },
          "metadata": {},
          "output_type": "display_data"
        },
        {
          "data": {
            "application/vnd.jupyter.widget-view+json": {
              "model_id": "",
              "version_major": 2,
              "version_minor": 0
            },
            "text/plain": [
              "FloatProgress(value=0.0, bar_style='info', description='Progress:', layout=Layout(height='25px', width='50%'),…"
            ]
          },
          "metadata": {},
          "output_type": "display_data"
        }
      ],
      "source": [
        "from pyspark.sql.functions import col, stddev, avg, abs\n",
        "\n",
        "def identify_outliers(dataset, columns, threshold):\n",
        "    spark = SparkSession.builder.getOrCreate()\n",
        "    outliers = {}\n",
        "\n",
        "    for column in columns:\n",
        "        # Compute the mean and standard deviation for the column\n",
        "        mean_stddev = dataset.select(avg(col(column)).alias('mean'), stddev(col(column)).alias('stddev')).first()\n",
        "\n",
        "        # Calculate the z-scores for the column\n",
        "        dataset = dataset.withColumn(column + \"_zscore\", (col(column) - mean_stddev['mean']) / mean_stddev['stddev'])\n",
        "\n",
        "        # Identify outliers based on the threshold\n",
        "        column_outliers = dataset.filter(abs(col(column + \"_zscore\")) > threshold)\n",
        "\n",
        "        # Store outliers in the dictionary\n",
        "        outliers[column] = column_outliers\n",
        "\n",
        "        # Print the column name and its corresponding outliers\n",
        "        print(\"Outliers for column '{}':\".format(column))\n",
        "        column_outliers.show()\n",
        "\n",
        "    return outliers"
      ]
    },
    {
      "cell_type": "code",
      "execution_count": null,
      "id": "77b10ea9",
      "metadata": {
        "scrolled": true,
        "colab": {
          "referenced_widgets": [
            "ade37bf79be943caa92d913732b83f6c",
            ""
          ]
        },
        "id": "77b10ea9",
        "outputId": "f39ac3ff-e517-4bb8-bf7e-b6210e6fc350"
      },
      "outputs": [
        {
          "data": {
            "application/vnd.jupyter.widget-view+json": {
              "model_id": "ade37bf79be943caa92d913732b83f6c",
              "version_major": 2,
              "version_minor": 0
            },
            "text/plain": [
              "VBox()"
            ]
          },
          "metadata": {},
          "output_type": "display_data"
        },
        {
          "data": {
            "application/vnd.jupyter.widget-view+json": {
              "model_id": "",
              "version_major": 2,
              "version_minor": 0
            },
            "text/plain": [
              "FloatProgress(value=0.0, bar_style='info', description='Progress:', layout=Layout(height='25px', width='50%'),…"
            ]
          },
          "metadata": {},
          "output_type": "display_data"
        }
      ],
      "source": [
        "# Assuming sparkSession and 'data' is PySpark DataFrame\n",
        "columns = ['age', 'num_dependents', 'estimated_salary', 'calls_made', 'sms_sent', 'data_used']\n",
        "threshold = 3"
      ]
    },
    {
      "cell_type": "code",
      "execution_count": null,
      "id": "c5109e39",
      "metadata": {
        "scrolled": true,
        "colab": {
          "referenced_widgets": [
            "fee6212bd81a4cb4a6871e42061c1c71",
            ""
          ]
        },
        "id": "c5109e39",
        "outputId": "f1705764-0459-407e-cb5e-51488547c73c"
      },
      "outputs": [
        {
          "data": {
            "application/vnd.jupyter.widget-view+json": {
              "model_id": "fee6212bd81a4cb4a6871e42061c1c71",
              "version_major": 2,
              "version_minor": 0
            },
            "text/plain": [
              "VBox()"
            ]
          },
          "metadata": {},
          "output_type": "display_data"
        },
        {
          "data": {
            "application/vnd.jupyter.widget-view+json": {
              "model_id": "",
              "version_major": 2,
              "version_minor": 0
            },
            "text/plain": [
              "FloatProgress(value=0.0, bar_style='info', description='Progress:', layout=Layout(height='25px', width='50%'),…"
            ]
          },
          "metadata": {},
          "output_type": "display_data"
        },
        {
          "name": "stdout",
          "output_type": "stream",
          "text": [
            "Outliers for column 'age':\n",
            "+-----------+---------------+------+---+-----+----+-------+--------------------+--------------+----------------+----------+--------+---------+-----+----------+\n",
            "|customer_id|telecom_partner|gender|age|state|city|pincode|date_of_registration|num_dependents|estimated_salary|calls_made|sms_sent|data_used|churn|age_zscore|\n",
            "+-----------+---------------+------+---+-----+----+-------+--------------------+--------------+----------------+----------+--------+---------+-----+----------+\n",
            "+-----------+---------------+------+---+-----+----+-------+--------------------+--------------+----------------+----------+--------+---------+-----+----------+\n",
            "\n",
            "Outliers for column 'num_dependents':\n",
            "+-----------+---------------+------+---+-----+----+-------+--------------------+--------------+----------------+----------+--------+---------+-----+----------+---------------------+\n",
            "|customer_id|telecom_partner|gender|age|state|city|pincode|date_of_registration|num_dependents|estimated_salary|calls_made|sms_sent|data_used|churn|age_zscore|num_dependents_zscore|\n",
            "+-----------+---------------+------+---+-----+----+-------+--------------------+--------------+----------------+----------+--------+---------+-----+----------+---------------------+\n",
            "+-----------+---------------+------+---+-----+----+-------+--------------------+--------------+----------------+----------+--------+---------+-----+----------+---------------------+\n",
            "\n",
            "Outliers for column 'estimated_salary':\n",
            "+-----------+---------------+------+---+-----+----+-------+--------------------+--------------+----------------+----------+--------+---------+-----+----------+---------------------+-----------------------+\n",
            "|customer_id|telecom_partner|gender|age|state|city|pincode|date_of_registration|num_dependents|estimated_salary|calls_made|sms_sent|data_used|churn|age_zscore|num_dependents_zscore|estimated_salary_zscore|\n",
            "+-----------+---------------+------+---+-----+----+-------+--------------------+--------------+----------------+----------+--------+---------+-----+----------+---------------------+-----------------------+\n",
            "+-----------+---------------+------+---+-----+----+-------+--------------------+--------------+----------------+----------+--------+---------+-----+----------+---------------------+-----------------------+\n",
            "\n",
            "Outliers for column 'calls_made':\n",
            "+-----------+---------------+------+---+-----+----+-------+--------------------+--------------+----------------+----------+--------+---------+-----+----------+---------------------+-----------------------+-----------------+\n",
            "|customer_id|telecom_partner|gender|age|state|city|pincode|date_of_registration|num_dependents|estimated_salary|calls_made|sms_sent|data_used|churn|age_zscore|num_dependents_zscore|estimated_salary_zscore|calls_made_zscore|\n",
            "+-----------+---------------+------+---+-----+----+-------+--------------------+--------------+----------------+----------+--------+---------+-----+----------+---------------------+-----------------------+-----------------+\n",
            "+-----------+---------------+------+---+-----+----+-------+--------------------+--------------+----------------+----------+--------+---------+-----+----------+---------------------+-----------------------+-----------------+\n",
            "\n",
            "Outliers for column 'sms_sent':\n",
            "+-----------+---------------+------+---+-----+----+-------+--------------------+--------------+----------------+----------+--------+---------+-----+----------+---------------------+-----------------------+-----------------+---------------+\n",
            "|customer_id|telecom_partner|gender|age|state|city|pincode|date_of_registration|num_dependents|estimated_salary|calls_made|sms_sent|data_used|churn|age_zscore|num_dependents_zscore|estimated_salary_zscore|calls_made_zscore|sms_sent_zscore|\n",
            "+-----------+---------------+------+---+-----+----+-------+--------------------+--------------+----------------+----------+--------+---------+-----+----------+---------------------+-----------------------+-----------------+---------------+\n",
            "+-----------+---------------+------+---+-----+----+-------+--------------------+--------------+----------------+----------+--------+---------+-----+----------+---------------------+-----------------------+-----------------+---------------+\n",
            "\n",
            "Outliers for column 'data_used':\n",
            "+-----------+---------------+------+---+-----+----+-------+--------------------+--------------+----------------+----------+--------+---------+-----+----------+---------------------+-----------------------+-----------------+---------------+----------------+\n",
            "|customer_id|telecom_partner|gender|age|state|city|pincode|date_of_registration|num_dependents|estimated_salary|calls_made|sms_sent|data_used|churn|age_zscore|num_dependents_zscore|estimated_salary_zscore|calls_made_zscore|sms_sent_zscore|data_used_zscore|\n",
            "+-----------+---------------+------+---+-----+----+-------+--------------------+--------------+----------------+----------+--------+---------+-----+----------+---------------------+-----------------------+-----------------+---------------+----------------+\n",
            "+-----------+---------------+------+---+-----+----+-------+--------------------+--------------+----------------+----------+--------+---------+-----+----------+---------------------+-----------------------+-----------------+---------------+----------------+"
          ]
        }
      ],
      "source": [
        "# Call the function to identify outliers for the specified columns\n",
        "identified_outliers = identify_outliers(data, columns, threshold)\n"
      ]
    },
    {
      "cell_type": "markdown",
      "id": "e5e62eda",
      "metadata": {
        "id": "e5e62eda"
      },
      "source": [
        "\n",
        "After having implemented the z-score threshold for the removal of outliers, the output returns no outliers based based on the threshold used. However, informed by domain knowledge, we believe that negative values do not fit in the context of some of the variables such as \"calls_made\", \"data_used\", \"sms-sent\", hence we undertake their removal in the next steps below:"
      ]
    },
    {
      "cell_type": "markdown",
      "id": "9f563ed1",
      "metadata": {
        "id": "9f563ed1"
      },
      "source": [
        "### Negative Values removal"
      ]
    },
    {
      "cell_type": "code",
      "execution_count": null,
      "id": "560d1f0b",
      "metadata": {
        "colab": {
          "referenced_widgets": [
            "2b921074f9624cfe9634769400f304ab",
            ""
          ]
        },
        "id": "560d1f0b",
        "outputId": "e4fd8516-20ea-4c0f-fce3-a5ccf28ab172"
      },
      "outputs": [
        {
          "data": {
            "application/vnd.jupyter.widget-view+json": {
              "model_id": "2b921074f9624cfe9634769400f304ab",
              "version_major": 2,
              "version_minor": 0
            },
            "text/plain": [
              "VBox()"
            ]
          },
          "metadata": {},
          "output_type": "display_data"
        },
        {
          "data": {
            "application/vnd.jupyter.widget-view+json": {
              "model_id": "",
              "version_major": 2,
              "version_minor": 0
            },
            "text/plain": [
              "FloatProgress(value=0.0, bar_style='info', description='Progress:', layout=Layout(height='25px', width='50%'),…"
            ]
          },
          "metadata": {},
          "output_type": "display_data"
        }
      ],
      "source": [
        "data = data[data.calls_made > 0]\n",
        "data = data[data.data_used > 0]\n",
        "data = data[data.sms_sent>0]"
      ]
    },
    {
      "cell_type": "code",
      "execution_count": null,
      "id": "4626ed56",
      "metadata": {
        "scrolled": false,
        "colab": {
          "referenced_widgets": [
            "7f60469367104e61a85601d07372c770",
            ""
          ]
        },
        "id": "4626ed56",
        "outputId": "a054c4c9-e789-4281-eb0c-9308c4b71c1d"
      },
      "outputs": [
        {
          "data": {
            "application/vnd.jupyter.widget-view+json": {
              "model_id": "7f60469367104e61a85601d07372c770",
              "version_major": 2,
              "version_minor": 0
            },
            "text/plain": [
              "VBox()"
            ]
          },
          "metadata": {},
          "output_type": "display_data"
        },
        {
          "data": {
            "application/vnd.jupyter.widget-view+json": {
              "model_id": "",
              "version_major": 2,
              "version_minor": 0
            },
            "text/plain": [
              "FloatProgress(value=0.0, bar_style='info', description='Progress:', layout=Layout(height='25px', width='50%'),…"
            ]
          },
          "metadata": {},
          "output_type": "display_data"
        },
        {
          "name": "stdout",
          "output_type": "stream",
          "text": [
            "+-----------+---------------+------+---+--------------+---------+-------+--------------------+--------------+----------------+----------+--------+---------+-----+\n",
            "|customer_id|telecom_partner|gender|age|         state|     city|pincode|date_of_registration|num_dependents|estimated_salary|calls_made|sms_sent|data_used|churn|\n",
            "+-----------+---------------+------+---+--------------+---------+-------+--------------------+--------------+----------------+----------+--------+---------+-----+\n",
            "|     241859|       Vodafone|     M| 58|       Manipur|Bangalore| 500407| 2023-04-25 00:00:00|             2|           41014|        61|      45|     9961|    1|\n",
            "|      17876|         Airtel|     M| 59|       Mizoram|   Mumbai| 507230| 2020-03-30 00:00:00|             0|           92175|        92|      12|     1140|    0|\n",
            "|     200647|           BSNL|     M| 28|         Bihar|   Mumbai| 384932| 2022-10-01 00:00:00|             1|          149241|        22|      28|     5135|    0|\n",
            "|     129137|         Airtel|     F| 63| Uttar Pradesh|    Delhi| 645616| 2021-10-08 00:00:00|             1|          108624|        85|      38|     7912|    0|\n",
            "|     144470|           BSNL|     M| 41|      Nagaland|  Chennai| 801648| 2021-12-24 00:00:00|             0|           51171|        69|      38|     9430|    0|\n",
            "|     168367|         Airtel|     M| 42|   Maharashtra|    Delhi| 714941| 2022-04-22 00:00:00|             0|          105182|        64|      23|     7491|    0|\n",
            "|       5557|           BSNL|     M| 36|        Sikkim|Hyderabad| 702156| 2020-01-28 00:00:00|             0|           39845|        82|       8|     4081|    1|\n",
            "|     209859|         Airtel|     F| 21|Andhra Pradesh|    Delhi| 408582| 2022-11-16 00:00:00|             3|           71564|        75|      14|     2558|    0|\n",
            "|     170415|   Reliance Jio|     F| 62|       Manipur|Hyderabad| 172311| 2022-05-02 00:00:00|             3|           78899|        32|      39|     3582|    0|\n",
            "|      40860|           BSNL|     M| 31|           Goa|    Delhi| 348866| 2020-07-23 00:00:00|             0|           63155|        15|       7|     3850|    0|\n",
            "+-----------+---------------+------+---+--------------+---------+-------+--------------------+--------------+----------------+----------+--------+---------+-----+\n",
            "only showing top 10 rows"
          ]
        }
      ],
      "source": [
        "#We run the code below to remove observations with data_used less than 500 MB\n",
        "no_outliers = data[data.data_used > 500]\n",
        "no_outliers.show(10)"
      ]
    },
    {
      "cell_type": "code",
      "execution_count": null,
      "id": "2a41e6f5",
      "metadata": {
        "colab": {
          "referenced_widgets": [
            "ad1dbc125fb6411da9a708c0ad1c63d3",
            ""
          ]
        },
        "id": "2a41e6f5",
        "outputId": "873e7ed0-2785-4340-fbf7-8538087c8558"
      },
      "outputs": [
        {
          "data": {
            "application/vnd.jupyter.widget-view+json": {
              "model_id": "ad1dbc125fb6411da9a708c0ad1c63d3",
              "version_major": 2,
              "version_minor": 0
            },
            "text/plain": [
              "VBox()"
            ]
          },
          "metadata": {},
          "output_type": "display_data"
        },
        {
          "data": {
            "application/vnd.jupyter.widget-view+json": {
              "model_id": "",
              "version_major": 2,
              "version_minor": 0
            },
            "text/plain": [
              "FloatProgress(value=0.0, bar_style='info', description='Progress:', layout=Layout(height='25px', width='50%'),…"
            ]
          },
          "metadata": {},
          "output_type": "display_data"
        }
      ],
      "source": [
        "import matplotlib.pyplot as plt\n",
        "from pyspark.sql import SparkSession\n"
      ]
    },
    {
      "cell_type": "code",
      "execution_count": null,
      "id": "2a9fc488",
      "metadata": {
        "colab": {
          "referenced_widgets": [
            "084344d454624eb193b0dd7d44b5f1bf",
            ""
          ]
        },
        "id": "2a9fc488",
        "outputId": "d7b465ea-cb8d-428a-adc8-6f9bcce9f374"
      },
      "outputs": [
        {
          "data": {
            "application/vnd.jupyter.widget-view+json": {
              "model_id": "084344d454624eb193b0dd7d44b5f1bf",
              "version_major": 2,
              "version_minor": 0
            },
            "text/plain": [
              "VBox()"
            ]
          },
          "metadata": {},
          "output_type": "display_data"
        },
        {
          "data": {
            "application/vnd.jupyter.widget-view+json": {
              "model_id": "",
              "version_major": 2,
              "version_minor": 0
            },
            "text/plain": [
              "FloatProgress(value=0.0, bar_style='info', description='Progress:', layout=Layout(height='25px', width='50%'),…"
            ]
          },
          "metadata": {},
          "output_type": "display_data"
        }
      ],
      "source": [
        "def plot_hist(data, features, n_rows, n_cols):\n",
        "    fig, ax = plt.subplots(n_rows, n_cols, figsize=(10,10))\n",
        "    fig.tight_layout(pad=5.0)\n",
        "\n",
        "    for i, feature in enumerate(features):\n",
        "        # Collect column data to driver node\n",
        "        column_data = data.select(feature).rdd.flatMap(lambda x: x).collect()\n",
        "\n",
        "        # Plot histogram on the appropriate subplot\n",
        "        ax[i//n_cols, i%n_cols].hist(column_data, bins=30, edgecolor='black')\n",
        "        ax[i//n_cols, i%n_cols].set_title(feature)\n",
        "\n",
        "    plt.show()\n"
      ]
    },
    {
      "cell_type": "code",
      "execution_count": null,
      "id": "359e6ae3",
      "metadata": {
        "colab": {
          "referenced_widgets": [
            "a4f89e96b06e4c2abd2cb90f5cc9a334",
            ""
          ]
        },
        "id": "359e6ae3",
        "outputId": "0db784d2-e528-4155-bd8f-5095a9586a4f"
      },
      "outputs": [
        {
          "data": {
            "application/vnd.jupyter.widget-view+json": {
              "model_id": "a4f89e96b06e4c2abd2cb90f5cc9a334",
              "version_major": 2,
              "version_minor": 0
            },
            "text/plain": [
              "VBox()"
            ]
          },
          "metadata": {},
          "output_type": "display_data"
        },
        {
          "data": {
            "application/vnd.jupyter.widget-view+json": {
              "model_id": "",
              "version_major": 2,
              "version_minor": 0
            },
            "text/plain": [
              "FloatProgress(value=0.0, bar_style='info', description='Progress:', layout=Layout(height='25px', width='50%'),…"
            ]
          },
          "metadata": {},
          "output_type": "display_data"
        }
      ],
      "source": [
        "features = ['estimated_salary', 'calls_made', 'data_used', 'sms_sent']"
      ]
    },
    {
      "cell_type": "code",
      "execution_count": null,
      "id": "7b60c19d",
      "metadata": {
        "colab": {
          "referenced_widgets": [
            "6c53473788b24ac79386f6859a948c26",
            ""
          ]
        },
        "id": "7b60c19d",
        "outputId": "ce1865e6-b3e1-47f0-942a-c0022edc97d6"
      },
      "outputs": [
        {
          "data": {
            "application/vnd.jupyter.widget-view+json": {
              "model_id": "6c53473788b24ac79386f6859a948c26",
              "version_major": 2,
              "version_minor": 0
            },
            "text/plain": [
              "VBox()"
            ]
          },
          "metadata": {},
          "output_type": "display_data"
        },
        {
          "data": {
            "application/vnd.jupyter.widget-view+json": {
              "model_id": "",
              "version_major": 2,
              "version_minor": 0
            },
            "text/plain": [
              "FloatProgress(value=0.0, bar_style='info', description='Progress:', layout=Layout(height='25px', width='50%'),…"
            ]
          },
          "metadata": {},
          "output_type": "display_data"
        },
        {
          "data": {
            "image/png": "[encoded data removed]",
            "text/plain": [
              "<IPython.core.display.Image object>"
            ]
          },
          "metadata": {},
          "output_type": "display_data"
        }
      ],
      "source": [
        "#we run the code the below to plot the histograms after removing the outlier-\n",
        "plot_hist(data=no_outliers, features=features, n_rows=2, n_cols=2)\n",
        "%matplot plt"
      ]
    },
    {
      "cell_type": "markdown",
      "id": "c9e48f51",
      "metadata": {
        "id": "c9e48f51"
      },
      "source": [
        "Regardless we observe that the distribution of the histograms is not any significantly impacted, leading us to conclude that the outlying values have no effect on the overall distribution of the dataset."
      ]
    },
    {
      "cell_type": "markdown",
      "id": "de352527",
      "metadata": {
        "id": "de352527"
      },
      "source": [
        "# Milestone III Implementation Starts Here"
      ]
    },
    {
      "cell_type": "markdown",
      "id": "a671f6b9",
      "metadata": {
        "id": "a671f6b9"
      },
      "source": [
        "### Correlation Analysis\n",
        "\n",
        "We perform correlation analysis on the numerical variables to assess the strength and direction of their linear relationship. We run the code below to implement this"
      ]
    },
    {
      "cell_type": "code",
      "execution_count": null,
      "id": "638dbf20",
      "metadata": {
        "colab": {
          "referenced_widgets": [
            "bc8f3ce950f74e0695ef297e50c185fa",
            ""
          ]
        },
        "id": "638dbf20",
        "outputId": "ee3461ce-d3e8-44f1-d7b0-8327df4f47b1"
      },
      "outputs": [
        {
          "data": {
            "application/vnd.jupyter.widget-view+json": {
              "model_id": "bc8f3ce950f74e0695ef297e50c185fa",
              "version_major": 2,
              "version_minor": 0
            },
            "text/plain": [
              "VBox()"
            ]
          },
          "metadata": {},
          "output_type": "display_data"
        },
        {
          "data": {
            "application/vnd.jupyter.widget-view+json": {
              "model_id": "",
              "version_major": 2,
              "version_minor": 0
            },
            "text/plain": [
              "FloatProgress(value=0.0, bar_style='info', description='Progress:', layout=Layout(height='25px', width='50%'),…"
            ]
          },
          "metadata": {},
          "output_type": "display_data"
        },
        {
          "name": "stdout",
          "output_type": "stream",
          "text": [
            "Correlation between age and num_dependents: 0.00033377694149931426\n",
            "Correlation between age and estimated_salary: -0.019354468901486798\n",
            "Correlation between age and calls_made: -0.007201311915704921\n",
            "Correlation between age and sms_sent: 0.0020869709447342293\n",
            "Correlation between age and data_used: 0.011210998618513884\n",
            "Correlation between num_dependents and estimated_salary: -0.0073430168523218285\n",
            "Correlation between num_dependents and calls_made: -0.003129220140796443\n",
            "Correlation between num_dependents and sms_sent: 0.014736442509158287\n",
            "Correlation between num_dependents and data_used: -0.008198120363605038\n",
            "Correlation between estimated_salary and calls_made: -0.011571930979899123\n",
            "Correlation between estimated_salary and sms_sent: 0.003144196870527887\n",
            "Correlation between estimated_salary and data_used: -0.024425561824776412\n",
            "Correlation between calls_made and sms_sent: 0.00990435339856176\n",
            "Correlation between calls_made and data_used: 0.004751531107597839\n",
            "Correlation between sms_sent and data_used: -0.014335972974326008"
          ]
        }
      ],
      "source": [
        "from pyspark.sql.functions import corr\n",
        "\n",
        "numerical_features = ['age', 'num_dependents', 'estimated_salary', 'calls_made', 'sms_sent', 'data_used']\n",
        "\n",
        "for i in range(0, len(numerical_features)):\n",
        "    for j in range(i+1, len(numerical_features)):\n",
        "        correlation_value = data.stat.corr(numerical_features[i], numerical_features[j])\n",
        "        print(f\"Correlation between {numerical_features[i]} and {numerical_features[j]}: {correlation_value}\")\n"
      ]
    },
    {
      "cell_type": "markdown",
      "id": "1aacd2b5",
      "metadata": {
        "id": "1aacd2b5"
      },
      "source": [
        "Following this general guide to correlation interpretation:\n",
        "- Close to +1: A strong positive relationship\n",
        "- Close to -1: A strong negative relationship\n",
        "- Close to 0: No or a very weak relationship\n",
        "\n",
        "In general, these correlations are very weak positive and negative relationships, suggesting that there is little linear relationship between these pairs of variables. However, there could still be non-linear relationships, or relationships involving more than two variables, which aren't captured by these simple pairwise correlations."
      ]
    },
    {
      "cell_type": "markdown",
      "id": "06928514",
      "metadata": {
        "id": "06928514"
      },
      "source": [
        "**Initializing the next phase**"
      ]
    },
    {
      "cell_type": "code",
      "execution_count": null,
      "id": "918cc038",
      "metadata": {
        "colab": {
          "referenced_widgets": [
            "4789fcb4b75b4b62977c4ea243335580",
            ""
          ]
        },
        "id": "918cc038",
        "outputId": "9f9781b6-1513-45a9-c172-a9cca36fcad1"
      },
      "outputs": [
        {
          "data": {
            "application/vnd.jupyter.widget-view+json": {
              "model_id": "4789fcb4b75b4b62977c4ea243335580",
              "version_major": 2,
              "version_minor": 0
            },
            "text/plain": [
              "VBox()"
            ]
          },
          "metadata": {},
          "output_type": "display_data"
        },
        {
          "name": "stdout",
          "output_type": "stream",
          "text": [
            "Starting Spark application\n"
          ]
        },
        {
          "data": {
            "text/html": [
              "<table>\n",
              "<tr><th>ID</th><th>YARN Application ID</th><th>Kind</th><th>State</th><th>Spark UI</th><th>Driver log</th><th>User</th><th>Current session?</th></tr><tr><td>0</td><td>application_1691077729082_0001</td><td>pyspark</td><td>idle</td><td><a target=\"_blank\" href=\"http://ip-172-31-69-165.ec2.internal:20888/proxy/application_1691077729082_0001/\" class=\"emr-proxy-link\" emr-resource=\"j-2IVD29HXHPKSH\n",
              "\" application-id=\"application_1691077729082_0001\">Link</a></td><td><a target=\"_blank\" href=\"http://ip-172-31-66-59.ec2.internal:8042/node/containerlogs/container_1691077729082_0001_01_000001/livy\" >Link</a></td><td>None</td><td>✔</td></tr></table>"
            ],
            "text/plain": [
              "<IPython.core.display.HTML object>"
            ]
          },
          "metadata": {},
          "output_type": "display_data"
        },
        {
          "data": {
            "application/vnd.jupyter.widget-view+json": {
              "model_id": "",
              "version_major": 2,
              "version_minor": 0
            },
            "text/plain": [
              "FloatProgress(value=0.0, bar_style='info', description='Progress:', layout=Layout(height='25px', width='50%'),…"
            ]
          },
          "metadata": {},
          "output_type": "display_data"
        },
        {
          "name": "stdout",
          "output_type": "stream",
          "text": [
            "SparkSession available as 'spark'.\n"
          ]
        },
        {
          "data": {
            "application/vnd.jupyter.widget-view+json": {
              "model_id": "",
              "version_major": 2,
              "version_minor": 0
            },
            "text/plain": [
              "FloatProgress(value=0.0, bar_style='info', description='Progress:', layout=Layout(height='25px', width='50%'),…"
            ]
          },
          "metadata": {},
          "output_type": "display_data"
        },
        {
          "name": "stdout",
          "output_type": "stream",
          "text": [
            "+-----------+---------------+------+---+-------------+---------+-------+--------------------+--------------+----------------+----------+--------+---------+-----+\n",
            "|customer_id|telecom_partner|gender|age|        state|     city|pincode|date_of_registration|num_dependents|estimated_salary|calls_made|sms_sent|data_used|churn|\n",
            "+-----------+---------------+------+---+-------------+---------+-------+--------------------+--------------+----------------+----------+--------+---------+-----+\n",
            "|     241859|       Vodafone|     M| 58|      Manipur|Bangalore| 500407| 2023-04-25 00:00:00|             2|           41014|        61|      45|     9961|    1|\n",
            "|      17876|         Airtel|     M| 59|      Mizoram|   Mumbai| 507230| 2020-03-30 00:00:00|             0|           92175|        92|      12|     1140|    0|\n",
            "|      38273|           BSNL|     M| 40|        Bihar|  Chennai| 453495| 2020-07-10 00:00:00|             2|          109436|        82|      19|     -604|    0|\n",
            "|     200647|           BSNL|     M| 28|        Bihar|   Mumbai| 384932| 2022-10-01 00:00:00|             1|          149241|        22|      28|     5135|    0|\n",
            "|     129137|         Airtel|     F| 63|Uttar Pradesh|    Delhi| 645616| 2021-10-08 00:00:00|             1|          108624|        85|      38|     7912|    0|\n",
            "+-----------+---------------+------+---+-------------+---------+-------+--------------------+--------------+----------------+----------+--------+---------+-----+\n",
            "only showing top 5 rows"
          ]
        }
      ],
      "source": [
        "from pyspark.sql import SparkSession\n",
        "from pyspark.ml.feature import StringIndexer, VectorAssembler, StandardScaler, ChiSqSelector\n",
        "from pyspark.ml import Pipeline\n",
        "from pyspark.ml.classification import LogisticRegression\n",
        "from pyspark.ml.tuning import ParamGridBuilder, CrossValidator\n",
        "from pyspark.ml.evaluation import BinaryClassificationEvaluator\n",
        "\n",
        "# create Spark session\n",
        "spark = SparkSession.builder.appName(\"telecom_churn_prediction\").getOrCreate()\n",
        "\n",
        "# load the data\n",
        "data = spark.read.csv('s3://jiogboles3private/spark/new_telcom_churn.csv', inferSchema=True, header=True)\n",
        "\n",
        "# show the first few records\n",
        "data.show(5)\n"
      ]
    },
    {
      "cell_type": "markdown",
      "id": "ded21d2f",
      "metadata": {
        "id": "ded21d2f"
      },
      "source": [
        "As always, it is crucial to check the dataset for missing/null/NA values. we do this below"
      ]
    },
    {
      "cell_type": "code",
      "execution_count": null,
      "id": "69dcd90b",
      "metadata": {
        "colab": {
          "referenced_widgets": [
            "dd7851dcbf514e9fa399048f76036e77",
            ""
          ]
        },
        "id": "69dcd90b",
        "outputId": "f3b2a5bd-5da8-4b89-c3f6-c1fbe7d1c968"
      },
      "outputs": [
        {
          "data": {
            "application/vnd.jupyter.widget-view+json": {
              "model_id": "dd7851dcbf514e9fa399048f76036e77",
              "version_major": 2,
              "version_minor": 0
            },
            "text/plain": [
              "VBox()"
            ]
          },
          "metadata": {},
          "output_type": "display_data"
        },
        {
          "data": {
            "application/vnd.jupyter.widget-view+json": {
              "model_id": "",
              "version_major": 2,
              "version_minor": 0
            },
            "text/plain": [
              "FloatProgress(value=0.0, bar_style='info', description='Progress:', layout=Layout(height='25px', width='50%'),…"
            ]
          },
          "metadata": {},
          "output_type": "display_data"
        },
        {
          "name": "stdout",
          "output_type": "stream",
          "text": [
            "+-----------+---------------+------+---+-----+----+-------+--------------------+--------------+----------------+----------+--------+---------+-----+\n",
            "|customer_id|telecom_partner|gender|age|state|city|pincode|date_of_registration|num_dependents|estimated_salary|calls_made|sms_sent|data_used|churn|\n",
            "+-----------+---------------+------+---+-----+----+-------+--------------------+--------------+----------------+----------+--------+---------+-----+\n",
            "|          0|              0|     0|  0|    0|   0|      0|                   0|             0|               0|         0|       0|        0|    0|\n",
            "+-----------+---------------+------+---+-----+----+-------+--------------------+--------------+----------------+----------+--------+---------+-----+"
          ]
        }
      ],
      "source": [
        "#We run the following code to check if there are any empty or null values in the dataset\n",
        "from pyspark.sql.functions import col, sum as sql_sum\n",
        "\n",
        "# Checking for null or NA values\n",
        "data.select(*(sql_sum(col(c).isNull().cast('int')).alias(c) for c in data.columns)).show()"
      ]
    },
    {
      "cell_type": "markdown",
      "id": "52e5b803",
      "metadata": {
        "id": "52e5b803"
      },
      "source": [
        "**Data Transformation**\n",
        "\n",
        "We begin the process below. first we drop columns that are irrelevant to the analysis and modeling"
      ]
    },
    {
      "cell_type": "code",
      "execution_count": null,
      "id": "ae0390dc",
      "metadata": {
        "colab": {
          "referenced_widgets": [
            "be1484d1acd1487185470a43a438913c",
            ""
          ]
        },
        "id": "ae0390dc",
        "outputId": "3cfe1a7d-35e0-420f-fd5f-e9f2195419ec"
      },
      "outputs": [
        {
          "data": {
            "application/vnd.jupyter.widget-view+json": {
              "model_id": "be1484d1acd1487185470a43a438913c",
              "version_major": 2,
              "version_minor": 0
            },
            "text/plain": [
              "VBox()"
            ]
          },
          "metadata": {},
          "output_type": "display_data"
        },
        {
          "data": {
            "application/vnd.jupyter.widget-view+json": {
              "model_id": "",
              "version_major": 2,
              "version_minor": 0
            },
            "text/plain": [
              "FloatProgress(value=0.0, bar_style='info', description='Progress:', layout=Layout(height='25px', width='50%'),…"
            ]
          },
          "metadata": {},
          "output_type": "display_data"
        }
      ],
      "source": [
        "#drop columns not needed\n",
        "data = data.drop('customer_id', 'date_of_registration')"
      ]
    },
    {
      "cell_type": "code",
      "execution_count": null,
      "id": "4518d6c8",
      "metadata": {
        "colab": {
          "referenced_widgets": [
            "1b40894c6ba04981947c882e5f885338",
            ""
          ]
        },
        "id": "4518d6c8",
        "outputId": "ef01a45d-7f78-4f29-afb4-7beb00dcd353"
      },
      "outputs": [
        {
          "data": {
            "application/vnd.jupyter.widget-view+json": {
              "model_id": "1b40894c6ba04981947c882e5f885338",
              "version_major": 2,
              "version_minor": 0
            },
            "text/plain": [
              "VBox()"
            ]
          },
          "metadata": {},
          "output_type": "display_data"
        },
        {
          "data": {
            "application/vnd.jupyter.widget-view+json": {
              "model_id": "",
              "version_major": 2,
              "version_minor": 0
            },
            "text/plain": [
              "FloatProgress(value=0.0, bar_style='info', description='Progress:', layout=Layout(height='25px', width='50%'),…"
            ]
          },
          "metadata": {},
          "output_type": "display_data"
        },
        {
          "name": "stdout",
          "output_type": "stream",
          "text": [
            "+---------------+------+---+-------+---------+-------+--------------+----------------+----------+--------+---------+-----+\n",
            "|telecom_partner|gender|age|  state|     city|pincode|num_dependents|estimated_salary|calls_made|sms_sent|data_used|churn|\n",
            "+---------------+------+---+-------+---------+-------+--------------+----------------+----------+--------+---------+-----+\n",
            "|       Vodafone|     M| 58|Manipur|Bangalore| 500407|             2|           41014|        61|      45|     9961|    1|\n",
            "|         Airtel|     M| 59|Mizoram|   Mumbai| 507230|             0|           92175|        92|      12|     1140|    0|\n",
            "+---------------+------+---+-------+---------+-------+--------------+----------------+----------+--------+---------+-----+\n",
            "only showing top 2 rows"
          ]
        }
      ],
      "source": [
        "#print dataframe to confirm dropped columns\n",
        "data.show(2)"
      ]
    },
    {
      "cell_type": "markdown",
      "id": "ed318daf",
      "metadata": {
        "id": "ed318daf"
      },
      "source": [
        "**Data Partitioning**\n",
        "\n",
        "Next we split the dataset into test and train sets for the purpose of model evaluation, overfitting detection, hyperparameter tuning and prevention of data leakage."
      ]
    },
    {
      "cell_type": "code",
      "execution_count": null,
      "id": "dc4ae4bb",
      "metadata": {
        "colab": {
          "referenced_widgets": [
            "b088e1375a3b4a2281878d302c5d7a86",
            ""
          ]
        },
        "id": "dc4ae4bb",
        "outputId": "51cf144d-61c4-4568-faec-e602ca2f8ef8"
      },
      "outputs": [
        {
          "data": {
            "application/vnd.jupyter.widget-view+json": {
              "model_id": "b088e1375a3b4a2281878d302c5d7a86",
              "version_major": 2,
              "version_minor": 0
            },
            "text/plain": [
              "VBox()"
            ]
          },
          "metadata": {},
          "output_type": "display_data"
        },
        {
          "data": {
            "application/vnd.jupyter.widget-view+json": {
              "model_id": "",
              "version_major": 2,
              "version_minor": 0
            },
            "text/plain": [
              "FloatProgress(value=0.0, bar_style='info', description='Progress:', layout=Layout(height='25px', width='50%'),…"
            ]
          },
          "metadata": {},
          "output_type": "display_data"
        }
      ],
      "source": [
        "#split data into train and test sets\n",
        "train_data, test_data = data.randomSplit([0.7, 0.3], seed=42)"
      ]
    },
    {
      "cell_type": "markdown",
      "id": "08871e3c",
      "metadata": {
        "id": "08871e3c"
      },
      "source": [
        "In the code above, randomSplit function is used to randomly split the data into training and test sets. The argument [0.7, 0.3] means that approximately 70% of the data will be used for model training and 30% as our test dataset"
      ]
    },
    {
      "cell_type": "code",
      "execution_count": null,
      "id": "b89d10d5",
      "metadata": {
        "colab": {
          "referenced_widgets": [
            "03d64764dcd346e5a94e52685b4a8090",
            ""
          ]
        },
        "id": "b89d10d5",
        "outputId": "d83380d3-6246-47bc-e0d6-942fd4840def"
      },
      "outputs": [
        {
          "data": {
            "application/vnd.jupyter.widget-view+json": {
              "model_id": "03d64764dcd346e5a94e52685b4a8090",
              "version_major": 2,
              "version_minor": 0
            },
            "text/plain": [
              "VBox()"
            ]
          },
          "metadata": {},
          "output_type": "display_data"
        },
        {
          "data": {
            "application/vnd.jupyter.widget-view+json": {
              "model_id": "",
              "version_major": 2,
              "version_minor": 0
            },
            "text/plain": [
              "FloatProgress(value=0.0, bar_style='info', description='Progress:', layout=Layout(height='25px', width='50%'),…"
            ]
          },
          "metadata": {},
          "output_type": "display_data"
        },
        {
          "name": "stdout",
          "output_type": "stream",
          "text": [
            "9198"
          ]
        }
      ],
      "source": [
        "#get a count of train set\n",
        "train_data.count()"
      ]
    },
    {
      "cell_type": "code",
      "execution_count": null,
      "id": "55f9939c",
      "metadata": {
        "colab": {
          "referenced_widgets": [
            "f6fa3278fbc040978017b2cfa1d7325a",
            ""
          ]
        },
        "id": "55f9939c",
        "outputId": "81e292e5-2ed3-4175-f470-28f752d7e9a9"
      },
      "outputs": [
        {
          "data": {
            "application/vnd.jupyter.widget-view+json": {
              "model_id": "f6fa3278fbc040978017b2cfa1d7325a",
              "version_major": 2,
              "version_minor": 0
            },
            "text/plain": [
              "VBox()"
            ]
          },
          "metadata": {},
          "output_type": "display_data"
        },
        {
          "data": {
            "application/vnd.jupyter.widget-view+json": {
              "model_id": "",
              "version_major": 2,
              "version_minor": 0
            },
            "text/plain": [
              "FloatProgress(value=0.0, bar_style='info', description='Progress:', layout=Layout(height='25px', width='50%'),…"
            ]
          },
          "metadata": {},
          "output_type": "display_data"
        },
        {
          "name": "stdout",
          "output_type": "stream",
          "text": [
            "3802"
          ]
        }
      ],
      "source": [
        "#get a count of test set\n",
        "test_data.count()"
      ]
    },
    {
      "cell_type": "code",
      "execution_count": null,
      "id": "6e7c3ff2",
      "metadata": {
        "colab": {
          "referenced_widgets": [
            "e2102be47cff42b0aaf947a8923b6186",
            ""
          ]
        },
        "id": "6e7c3ff2",
        "outputId": "77dfd459-1fa7-46f9-fde0-a5812610c2bd"
      },
      "outputs": [
        {
          "data": {
            "application/vnd.jupyter.widget-view+json": {
              "model_id": "e2102be47cff42b0aaf947a8923b6186",
              "version_major": 2,
              "version_minor": 0
            },
            "text/plain": [
              "VBox()"
            ]
          },
          "metadata": {},
          "output_type": "display_data"
        },
        {
          "data": {
            "application/vnd.jupyter.widget-view+json": {
              "model_id": "",
              "version_major": 2,
              "version_minor": 0
            },
            "text/plain": [
              "FloatProgress(value=0.0, bar_style='info', description='Progress:', layout=Layout(height='25px', width='50%'),…"
            ]
          },
          "metadata": {},
          "output_type": "display_data"
        },
        {
          "name": "stdout",
          "output_type": "stream",
          "text": [
            "+---------------+------+---+-----------------+---------+-------+--------------+----------------+----------+--------+---------+-----+\n",
            "|telecom_partner|gender|age|            state|     city|pincode|num_dependents|estimated_salary|calls_made|sms_sent|data_used|churn|\n",
            "+---------------+------+---+-----------------+---------+-------+--------------+----------------+----------+--------+---------+-----+\n",
            "|         Airtel|     F| 18|Arunachal Pradesh|Hyderabad| 663657|             3|          140043|         8|      -2|     5154|    0|\n",
            "|         Airtel|     F| 18|Arunachal Pradesh|  Kolkata| 403882|             0|           87551|        67|      22|     3919|    1|\n",
            "+---------------+------+---+-----------------+---------+-------+--------------+----------------+----------+--------+---------+-----+\n",
            "only showing top 2 rows"
          ]
        }
      ],
      "source": [
        "#print train dataframe\n",
        "train_data.show(2)"
      ]
    },
    {
      "cell_type": "code",
      "execution_count": null,
      "id": "6d405e12",
      "metadata": {
        "colab": {
          "referenced_widgets": [
            "7f13b91326ae4cba90ed0e3e09b8aabb",
            ""
          ]
        },
        "id": "6d405e12",
        "outputId": "2fcfacc3-4076-4b26-f9c9-a64622e210d9"
      },
      "outputs": [
        {
          "data": {
            "application/vnd.jupyter.widget-view+json": {
              "model_id": "7f13b91326ae4cba90ed0e3e09b8aabb",
              "version_major": 2,
              "version_minor": 0
            },
            "text/plain": [
              "VBox()"
            ]
          },
          "metadata": {},
          "output_type": "display_data"
        },
        {
          "data": {
            "application/vnd.jupyter.widget-view+json": {
              "model_id": "",
              "version_major": 2,
              "version_minor": 0
            },
            "text/plain": [
              "FloatProgress(value=0.0, bar_style='info', description='Progress:', layout=Layout(height='25px', width='50%'),…"
            ]
          },
          "metadata": {},
          "output_type": "display_data"
        },
        {
          "name": "stdout",
          "output_type": "stream",
          "text": [
            "+---------------+------+---+---------+-------+-------+--------------+----------------+----------+--------+---------+-----+\n",
            "|telecom_partner|gender|age|    state|   city|pincode|num_dependents|estimated_salary|calls_made|sms_sent|data_used|churn|\n",
            "+---------------+------+---+---------+-------+-------+--------------+----------------+----------+--------+---------+-----+\n",
            "|         Airtel|     F| 18|    Assam|Chennai| 786664|             4|          122587|        71|      36|     7230|    0|\n",
            "|         Airtel|     F| 18|Rajasthan| Mumbai| 545310|             3|          145860|        99|      16|     5723|    1|\n",
            "+---------------+------+---+---------+-------+-------+--------------+----------------+----------+--------+---------+-----+\n",
            "only showing top 2 rows"
          ]
        }
      ],
      "source": [
        "#print test dataframe\n",
        "test_data.show(2)"
      ]
    },
    {
      "cell_type": "markdown",
      "id": "51da9d70",
      "metadata": {
        "id": "51da9d70"
      },
      "source": [
        "**Normalization and Dummy Variables Creation ~ Modeling Pipeline Construction**\n",
        "\n",
        "Below we normalize the numerical variables to adjust our input features to a common scale without distorting the differences in range of values or losing information\n",
        "\n",
        "Normalizing numerical features, such as 'estimated_salary', 'calls_made', 'sms_sent', and 'data_used', is essential as it brings all the values into a similar scale\n",
        "\n",
        "For categorical variables like 'gender', 'state', 'city', etc. we create n-1 dummy variables to avoid the dummy variables trap.\n",
        "\n",
        "In the code below, StringIndexer transforms each categorical column to a column of numerical indices, and OneHotEncoder maps a column of category indices to a column of binary vectors.\n",
        "\n",
        "In PySpark's ML library, many functions (including the StandardScaler) require that the input data is assembled into a single column of vectors, not a DataFrame of scalar columns, we implement all of these in the cells that follow."
      ]
    },
    {
      "cell_type": "code",
      "execution_count": null,
      "id": "fa8e602a",
      "metadata": {
        "colab": {
          "referenced_widgets": [
            "dca9a268d58949118784a0eb62a3b2d3",
            ""
          ]
        },
        "id": "fa8e602a",
        "outputId": "5d81dd3d-f753-4570-a9a2-619d1917794d"
      },
      "outputs": [
        {
          "data": {
            "application/vnd.jupyter.widget-view+json": {
              "model_id": "dca9a268d58949118784a0eb62a3b2d3",
              "version_major": 2,
              "version_minor": 0
            },
            "text/plain": [
              "VBox()"
            ]
          },
          "metadata": {},
          "output_type": "display_data"
        },
        {
          "data": {
            "application/vnd.jupyter.widget-view+json": {
              "model_id": "",
              "version_major": 2,
              "version_minor": 0
            },
            "text/plain": [
              "FloatProgress(value=0.0, bar_style='info', description='Progress:', layout=Layout(height='25px', width='50%'),…"
            ]
          },
          "metadata": {},
          "output_type": "display_data"
        },
        {
          "name": "stdout",
          "output_type": "stream",
          "text": [
            "+------+------------+\n",
            "|gender|gender_index|\n",
            "+------+------------+\n",
            "|     M|         0.0|\n",
            "|     M|         0.0|\n",
            "|     M|         0.0|\n",
            "|     M|         0.0|\n",
            "|     F|         1.0|\n",
            "|     M|         0.0|\n",
            "|     M|         0.0|\n",
            "|     M|         0.0|\n",
            "|     F|         1.0|\n",
            "|     F|         1.0|\n",
            "|     F|         1.0|\n",
            "|     M|         0.0|\n",
            "|     M|         0.0|\n",
            "|     M|         0.0|\n",
            "|     M|         0.0|\n",
            "|     M|         0.0|\n",
            "|     M|         0.0|\n",
            "|     M|         0.0|\n",
            "|     M|         0.0|\n",
            "|     F|         1.0|\n",
            "+------+------------+\n",
            "only showing top 20 rows"
          ]
        }
      ],
      "source": [
        "# Apply StringIndexer to 'gender' column and display the result\n",
        "indexer = StringIndexer(inputCol=\"gender\", outputCol=\"gender_index\")\n",
        "indexed = indexer.fit(data).transform(data)\n",
        "indexed.select(\"gender\", \"gender_index\").show()"
      ]
    },
    {
      "cell_type": "markdown",
      "id": "1ce03e13",
      "metadata": {
        "id": "1ce03e13"
      },
      "source": [
        "In the cell output above, we applied the stringindexer transformation to the gender column as test to ensure that our categorical tranformation is being correctly applied. The output is as expected. We also do the same for \"state\" and \"city\" categorical variables."
      ]
    },
    {
      "cell_type": "code",
      "execution_count": null,
      "id": "bbe2e06e",
      "metadata": {
        "colab": {
          "referenced_widgets": [
            "b7b3de56f5d44ca3a67b3d6d94036fb7",
            ""
          ]
        },
        "id": "bbe2e06e",
        "outputId": "f8121dae-299b-472d-ca52-21f65514e16c"
      },
      "outputs": [
        {
          "data": {
            "application/vnd.jupyter.widget-view+json": {
              "model_id": "b7b3de56f5d44ca3a67b3d6d94036fb7",
              "version_major": 2,
              "version_minor": 0
            },
            "text/plain": [
              "VBox()"
            ]
          },
          "metadata": {},
          "output_type": "display_data"
        },
        {
          "data": {
            "application/vnd.jupyter.widget-view+json": {
              "model_id": "",
              "version_major": 2,
              "version_minor": 0
            },
            "text/plain": [
              "FloatProgress(value=0.0, bar_style='info', description='Progress:', layout=Layout(height='25px', width='50%'),…"
            ]
          },
          "metadata": {},
          "output_type": "display_data"
        },
        {
          "name": "stdout",
          "output_type": "stream",
          "text": [
            "+--------------+-----------+\n",
            "|         state|state_index|\n",
            "+--------------+-----------+\n",
            "|       Manipur|       19.0|\n",
            "|       Mizoram|        8.0|\n",
            "|         Bihar|       14.0|\n",
            "|         Bihar|       14.0|\n",
            "| Uttar Pradesh|       11.0|\n",
            "|      Nagaland|       17.0|\n",
            "|   Maharashtra|        6.0|\n",
            "|        Sikkim|        1.0|\n",
            "|Andhra Pradesh|       21.0|\n",
            "|       Manipur|       19.0|\n",
            "|     Telangana|        7.0|\n",
            "|           Goa|       12.0|\n",
            "|    Tamil Nadu|       24.0|\n",
            "|Andhra Pradesh|       21.0|\n",
            "|Madhya Pradesh|        9.0|\n",
            "|       Manipur|       19.0|\n",
            "|        Sikkim|        1.0|\n",
            "|       Mizoram|        8.0|\n",
            "|     Telangana|        7.0|\n",
            "|       Mizoram|        8.0|\n",
            "+--------------+-----------+\n",
            "only showing top 20 rows\n",
            "\n",
            "+---------+----------+\n",
            "|     city|city_index|\n",
            "+---------+----------+\n",
            "|Bangalore|       1.0|\n",
            "|   Mumbai|       2.0|\n",
            "|  Chennai|       4.0|\n",
            "|   Mumbai|       2.0|\n",
            "|    Delhi|       3.0|\n",
            "|  Chennai|       4.0|\n",
            "|    Delhi|       3.0|\n",
            "|Hyderabad|       0.0|\n",
            "|    Delhi|       3.0|\n",
            "|Hyderabad|       0.0|\n",
            "|Hyderabad|       0.0|\n",
            "|    Delhi|       3.0|\n",
            "|Bangalore|       1.0|\n",
            "|Bangalore|       1.0|\n",
            "|    Delhi|       3.0|\n",
            "|   Mumbai|       2.0|\n",
            "|    Delhi|       3.0|\n",
            "|  Chennai|       4.0|\n",
            "|Bangalore|       1.0|\n",
            "|  Kolkata|       5.0|\n",
            "+---------+----------+\n",
            "only showing top 20 rows"
          ]
        }
      ],
      "source": [
        "# Apply StringIndexer to 'state' column and display the result\n",
        "indexer = StringIndexer(inputCol=\"state\", outputCol=\"state_index\")\n",
        "indexed = indexer.fit(data).transform(data)\n",
        "indexed.select(\"state\", \"state_index\").show()\n",
        "\n",
        "# Apply StringIndexer to 'city' column and display the result\n",
        "indexer = StringIndexer(inputCol=\"city\", outputCol=\"city_index\")\n",
        "indexed = indexer.fit(data).transform(data)\n",
        "indexed.select(\"city\", \"city_index\").show()"
      ]
    },
    {
      "cell_type": "markdown",
      "id": "f8fd0f36",
      "metadata": {
        "id": "f8fd0f36"
      },
      "source": [
        "The output above is as expected and confirms the stringindexers transformation is implementing as specified. Let's continue."
      ]
    },
    {
      "cell_type": "markdown",
      "id": "8bda1406",
      "metadata": {
        "id": "8bda1406"
      },
      "source": [
        "**Below** we implement the categorical transformation(dummy creation) on the dataframe as a whole"
      ]
    },
    {
      "cell_type": "code",
      "execution_count": null,
      "id": "cd6c26f6",
      "metadata": {
        "colab": {
          "referenced_widgets": [
            "66b30bac28834f39b90aa343ee1445db",
            ""
          ]
        },
        "id": "cd6c26f6",
        "outputId": "20021b1b-dbe2-4665-da7b-49b2ca4f234b"
      },
      "outputs": [
        {
          "data": {
            "application/vnd.jupyter.widget-view+json": {
              "model_id": "66b30bac28834f39b90aa343ee1445db",
              "version_major": 2,
              "version_minor": 0
            },
            "text/plain": [
              "VBox()"
            ]
          },
          "metadata": {},
          "output_type": "display_data"
        },
        {
          "data": {
            "application/vnd.jupyter.widget-view+json": {
              "model_id": "",
              "version_major": 2,
              "version_minor": 0
            },
            "text/plain": [
              "FloatProgress(value=0.0, bar_style='info', description='Progress:', layout=Layout(height='25px', width='50%'),…"
            ]
          },
          "metadata": {},
          "output_type": "display_data"
        },
        {
          "name": "stdout",
          "output_type": "stream",
          "text": [
            "+---------------+------+---+--------------+---------+-------+--------------+----------------+----------+--------+---------+-----+-------------+------------+----------+-----------+---------------------+\n",
            "|telecom_partner|gender|age|         state|     city|pincode|num_dependents|estimated_salary|calls_made|sms_sent|data_used|churn|pincode_index|gender_index|city_index|state_index|telecom_partner_index|\n",
            "+---------------+------+---+--------------+---------+-------+--------------+----------------+----------+--------+---------+-----+-------------+------------+----------+-----------+---------------------+\n",
            "|       Vodafone|     M| 58|       Manipur|Bangalore| 500407|             2|           41014|        61|      45|     9961|    1|       5891.0|         0.0|       1.0|       19.0|                  3.0|\n",
            "|         Airtel|     M| 59|       Mizoram|   Mumbai| 507230|             0|           92175|        92|      12|     1140|    0|       6001.0|         0.0|       2.0|        8.0|                  2.0|\n",
            "|           BSNL|     M| 40|         Bihar|  Chennai| 453495|             2|          109436|        82|      19|     -604|    0|       5214.0|         0.0|       4.0|       14.0|                  0.0|\n",
            "|           BSNL|     M| 28|         Bihar|   Mumbai| 384932|             1|          149241|        22|      28|     5135|    0|       4215.0|         0.0|       2.0|       14.0|                  0.0|\n",
            "|         Airtel|     F| 63| Uttar Pradesh|    Delhi| 645616|             1|          108624|        85|      38|     7912|    0|       7957.0|         1.0|       3.0|       11.0|                  2.0|\n",
            "|           BSNL|     M| 41|      Nagaland|  Chennai| 801648|             0|           51171|        69|      38|     9430|    0|      10172.0|         0.0|       4.0|       17.0|                  0.0|\n",
            "|         Airtel|     M| 42|   Maharashtra|    Delhi| 714941|             0|          105182|        64|      23|     7491|    0|       8930.0|         0.0|       3.0|        6.0|                  2.0|\n",
            "|           BSNL|     M| 36|        Sikkim|Hyderabad| 702156|             0|           39845|        82|       8|     4081|    1|       8743.0|         0.0|       0.0|        1.0|                  0.0|\n",
            "|         Airtel|     F| 21|Andhra Pradesh|    Delhi| 408582|             3|           71564|        75|      14|     2558|    0|       4565.0|         1.0|       3.0|       21.0|                  2.0|\n",
            "|   Reliance Jio|     F| 62|       Manipur|Hyderabad| 172311|             3|           78899|        32|      39|     3582|    0|       1179.0|         1.0|       0.0|       19.0|                  1.0|\n",
            "|   Reliance Jio|     F| 52|     Telangana|Hyderabad| 154773|             4|           66587|        86|      21|      383|    0|        926.0|         1.0|       0.0|        7.0|                  1.0|\n",
            "|           BSNL|     M| 31|           Goa|    Delhi| 348866|             0|           63155|        15|       7|     3850|    0|       3711.0|         0.0|       3.0|       12.0|                  0.0|\n",
            "|         Airtel|     M| 64|    Tamil Nadu|Bangalore| 966084|             1|          138603|        27|      44|     8267|    1|      12410.0|         0.0|       1.0|       24.0|                  2.0|\n",
            "|       Vodafone|     M| 70|Andhra Pradesh|Bangalore| 285811|             1|           30752|        32|      44|       27|    0|       2831.0|         0.0|       1.0|       21.0|                  3.0|\n",
            "|         Airtel|     M| 38|Madhya Pradesh|    Delhi| 236139|             1|           79524|       101|      32|     4860|    0|       2123.0|         0.0|       3.0|        9.0|                  2.0|\n",
            "|         Airtel|     M| 66|       Manipur|   Mumbai| 971149|             0|           52357|        35|       9|     4100|    0|      12473.0|         0.0|       2.0|       19.0|                  2.0|\n",
            "|   Reliance Jio|     M| 35|        Sikkim|    Delhi| 402487|             2|          108597|        69|      16|     6751|    0|       4481.0|         0.0|       3.0|        1.0|                  1.0|\n",
            "|         Airtel|     M| 61|       Mizoram|  Chennai| 431202|             0|           87146|       102|      29|     1115|    0|       4890.0|         0.0|       4.0|        8.0|                  2.0|\n",
            "|           BSNL|     M| 22|     Telangana|Bangalore| 267724|             0|           28267|        22|      47|      541|    1|       2578.0|         0.0|       1.0|        7.0|                  0.0|\n",
            "|         Airtel|     F| 64|       Mizoram|  Kolkata| 283673|             3|           73611|        89|      11|     1156|    0|       2795.0|         1.0|       5.0|        8.0|                  2.0|\n",
            "+---------------+------+---+--------------+---------+-------+--------------+----------------+----------+--------+---------+-----+-------------+------------+----------+-----------+---------------------+\n",
            "only showing top 20 rows"
          ]
        }
      ],
      "source": [
        "# List of numerical columns\n",
        "numerical_columns = ['age', 'num_dependents', 'estimated_salary', 'calls_made', 'sms_sent', 'data_used']\n",
        "\n",
        "# List of categorical columns\n",
        "categorical_columns = list(set(data.columns) - set(numerical_columns) - set(['churn']))\n",
        "\n",
        "# StringIndexer for categorical columns (n-1 dummies)\n",
        "indexers = [StringIndexer(inputCol=column, outputCol=column+\"_index\").setHandleInvalid(\"keep\")\n",
        "            for column in categorical_columns]\n",
        "\n",
        "# Apply StringIndexer to all categorical columns\n",
        "pipeline = Pipeline(stages=indexers)\n",
        "data_indexed = pipeline.fit(data).transform(data)\n",
        "\n",
        "# Display the DataFrame after StringIndexer\n",
        "data_indexed.show()\n"
      ]
    },
    {
      "cell_type": "markdown",
      "id": "641b8405",
      "metadata": {
        "id": "641b8405"
      },
      "source": [
        "The output is as specified and expected.Let's continue"
      ]
    },
    {
      "cell_type": "markdown",
      "id": "455bc9ee",
      "metadata": {
        "id": "455bc9ee"
      },
      "source": [
        "**Next** we turn to the transformation(normalization) of the numerical variables as described in following order:"
      ]
    },
    {
      "cell_type": "code",
      "execution_count": null,
      "id": "52eda525",
      "metadata": {
        "colab": {
          "referenced_widgets": [
            "e9bc054102ba478e8728d60c205d01a6",
            ""
          ]
        },
        "id": "52eda525",
        "outputId": "4bd4636e-a959-47a1-85c6-82c7011e1a8c"
      },
      "outputs": [
        {
          "data": {
            "application/vnd.jupyter.widget-view+json": {
              "model_id": "e9bc054102ba478e8728d60c205d01a6",
              "version_major": 2,
              "version_minor": 0
            },
            "text/plain": [
              "VBox()"
            ]
          },
          "metadata": {},
          "output_type": "display_data"
        },
        {
          "data": {
            "application/vnd.jupyter.widget-view+json": {
              "model_id": "",
              "version_major": 2,
              "version_minor": 0
            },
            "text/plain": [
              "FloatProgress(value=0.0, bar_style='info', description='Progress:', layout=Layout(height='25px', width='50%'),…"
            ]
          },
          "metadata": {},
          "output_type": "display_data"
        },
        {
          "name": "stdout",
          "output_type": "stream",
          "text": [
            "+--------------------+\n",
            "|            features|\n",
            "+--------------------+\n",
            "|[5891.0,0.0,1.0,1...|\n",
            "|[6001.0,0.0,2.0,8...|\n",
            "|[5214.0,0.0,4.0,1...|\n",
            "|[4215.0,0.0,2.0,1...|\n",
            "|[7957.0,1.0,3.0,1...|\n",
            "|[10172.0,0.0,4.0,...|\n",
            "|[8930.0,0.0,3.0,6...|\n",
            "|[8743.0,0.0,0.0,1...|\n",
            "|[4565.0,1.0,3.0,2...|\n",
            "|[1179.0,1.0,0.0,1...|\n",
            "+--------------------+\n",
            "only showing top 10 rows"
          ]
        }
      ],
      "source": [
        "# VectorAssembler for numerical columns\n",
        "assemblerInputs = [c + \"_index\" for c in categorical_columns] + numerical_columns\n",
        "assembler = VectorAssembler(inputCols=assemblerInputs, outputCol=\"features\")\n",
        "\n",
        "# Transform data using VectorAssembler\n",
        "assembled_data = assembler.transform(data_indexed)\n",
        "\n",
        "# Display the DataFrame after VectorAssembler\n",
        "assembled_data.select(\"features\").show(10)"
      ]
    },
    {
      "cell_type": "markdown",
      "id": "70b8d01f",
      "metadata": {
        "id": "70b8d01f"
      },
      "source": [
        "**The** output above confirms that the numerical transformation is correctly applied. We'll go ahead and normalize all assembled numerical vectors below"
      ]
    },
    {
      "cell_type": "code",
      "execution_count": null,
      "id": "b781a119",
      "metadata": {
        "colab": {
          "referenced_widgets": [
            "bf15640100734ffc9fc7897c95539b54",
            ""
          ]
        },
        "id": "b781a119",
        "outputId": "2e870dc7-1419-44e6-9360-acc888a3a7d7"
      },
      "outputs": [
        {
          "data": {
            "application/vnd.jupyter.widget-view+json": {
              "model_id": "bf15640100734ffc9fc7897c95539b54",
              "version_major": 2,
              "version_minor": 0
            },
            "text/plain": [
              "VBox()"
            ]
          },
          "metadata": {},
          "output_type": "display_data"
        },
        {
          "data": {
            "application/vnd.jupyter.widget-view+json": {
              "model_id": "",
              "version_major": 2,
              "version_minor": 0
            },
            "text/plain": [
              "FloatProgress(value=0.0, bar_style='info', description='Progress:', layout=Layout(height='25px', width='50%'),…"
            ]
          },
          "metadata": {},
          "output_type": "display_data"
        },
        {
          "name": "stdout",
          "output_type": "stream",
          "text": [
            "+--------------------+\n",
            "|      scaledFeatures|\n",
            "+--------------------+\n",
            "|[1.57032696625958...|\n",
            "|[1.59964897717259...|\n",
            "|[1.38986331727677...|\n",
            "|[1.12356614543950...|\n",
            "|[2.12104764395306...|\n",
            "|[2.71148631824690...|\n",
            "|[2.38041415866543...|\n",
            "|[2.33056674011331...|\n",
            "|[1.21686345289000...|\n",
            "|[0.31427864424037...|\n",
            "+--------------------+\n",
            "only showing top 10 rows"
          ]
        }
      ],
      "source": [
        "# StandardScaler for normalization\n",
        "scaler = StandardScaler(inputCol=\"features\", outputCol=\"scaledFeatures\", withStd=True, withMean=False)\n",
        "\n",
        "# Transform data using StandardScaler\n",
        "scaled_data = scaler.fit(assembled_data).transform(assembled_data)\n",
        "\n",
        "# Display the DataFrame after StandardScaler\n",
        "scaled_data.select(\"scaledFeatures\").show(10)"
      ]
    },
    {
      "cell_type": "markdown",
      "id": "3c207898",
      "metadata": {
        "id": "3c207898"
      },
      "source": [
        "The output above is as expected, let's continue"
      ]
    },
    {
      "cell_type": "markdown",
      "id": "da54b6a2",
      "metadata": {
        "id": "da54b6a2"
      },
      "source": [
        "**Next** we implement the **logistic regression** **modeling, hyperparameter tuning** and make **predictions** on our test dataset"
      ]
    },
    {
      "cell_type": "code",
      "execution_count": null,
      "id": "31474ebe",
      "metadata": {
        "colab": {
          "referenced_widgets": [
            "dc059d0e38f54984a434e3d2641ee0b6",
            ""
          ]
        },
        "id": "31474ebe",
        "outputId": "d01afbe4-8a07-48a3-d794-7e6602c105a4"
      },
      "outputs": [
        {
          "data": {
            "application/vnd.jupyter.widget-view+json": {
              "model_id": "dc059d0e38f54984a434e3d2641ee0b6",
              "version_major": 2,
              "version_minor": 0
            },
            "text/plain": [
              "VBox()"
            ]
          },
          "metadata": {},
          "output_type": "display_data"
        },
        {
          "data": {
            "application/vnd.jupyter.widget-view+json": {
              "model_id": "",
              "version_major": 2,
              "version_minor": 0
            },
            "text/plain": [
              "FloatProgress(value=0.0, bar_style='info', description='Progress:', layout=Layout(height='25px', width='50%'),…"
            ]
          },
          "metadata": {},
          "output_type": "display_data"
        }
      ],
      "source": [
        "# Logistic Regression model\n",
        "lr = LogisticRegression(featuresCol=\"scaledFeatures\", labelCol=\"churn\")"
      ]
    },
    {
      "cell_type": "code",
      "execution_count": null,
      "id": "af6da3c3",
      "metadata": {
        "colab": {
          "referenced_widgets": [
            "2e00776066a644e48de0dde682c4dcb6",
            ""
          ]
        },
        "id": "af6da3c3",
        "outputId": "7fbd39c0-1f72-4dcb-e965-e256918c94f2"
      },
      "outputs": [
        {
          "data": {
            "application/vnd.jupyter.widget-view+json": {
              "model_id": "2e00776066a644e48de0dde682c4dcb6",
              "version_major": 2,
              "version_minor": 0
            },
            "text/plain": [
              "VBox()"
            ]
          },
          "metadata": {},
          "output_type": "display_data"
        },
        {
          "data": {
            "application/vnd.jupyter.widget-view+json": {
              "model_id": "",
              "version_major": 2,
              "version_minor": 0
            },
            "text/plain": [
              "FloatProgress(value=0.0, bar_style='info', description='Progress:', layout=Layout(height='25px', width='50%'),…"
            ]
          },
          "metadata": {},
          "output_type": "display_data"
        },
        {
          "name": "stderr",
          "output_type": "stream",
          "text": [
            "Exception in thread cell_monitor-16:\n",
            "Traceback (most recent call last):\n",
            "  File \"/mnt/notebook-env/lib/python3.7/threading.py\", line 926, in _bootstrap_inner\n",
            "    self.run()\n",
            "  File \"/mnt/notebook-env/lib/python3.7/threading.py\", line 870, in run\n",
            "    self._target(*self._args, **self._kwargs)\n",
            "  File \"/mnt/notebook-env/lib/python3.7/site-packages/awseditorssparkmonitoringwidget-1.0-py3.7.egg/awseditorssparkmonitoringwidget/cellmonitor.py\", line 154, in cell_monitor\n",
            "    job_group_filtered_jobs = [job for job in jobs_data if job['jobGroup'] == str(statement_id)]\n",
            "  File \"/mnt/notebook-env/lib/python3.7/site-packages/awseditorssparkmonitoringwidget-1.0-py3.7.egg/awseditorssparkmonitoringwidget/cellmonitor.py\", line 154, in <listcomp>\n",
            "    job_group_filtered_jobs = [job for job in jobs_data if job['jobGroup'] == str(statement_id)]\n",
            "KeyError: 'jobGroup'\n",
            "\n"
          ]
        }
      ],
      "source": [
        "# Hyperparameter tuning\n",
        "# Define the parameter grid\n",
        "paramGrid = ParamGridBuilder() \\\n",
        "    .addGrid(lr.regParam, [0.01, 0.5, 2.0]) \\\n",
        "    .addGrid(lr.elasticNetParam, [0.0, 0.5, 1.0]) \\\n",
        "    .build()\n",
        "\n",
        "# Define the cross-validation\n",
        "crossval = CrossValidator(estimator=lr,\n",
        "                          estimatorParamMaps=paramGrid,\n",
        "                          evaluator=BinaryClassificationEvaluator(labelCol='churn'),\n",
        "                          numFolds=3)\n",
        "\n",
        "# Run cross-validation, and choose the best set of parameters.\n",
        "cvModel = crossval.fit(scaled_data)"
      ]
    },
    {
      "cell_type": "code",
      "execution_count": null,
      "id": "86cbce2b",
      "metadata": {
        "colab": {
          "referenced_widgets": [
            "3e3f1872a91840caaa5f6cb9708552fa",
            ""
          ]
        },
        "id": "86cbce2b",
        "outputId": "abbf2ea6-eebb-4c1c-c19c-eb6f7f3f058d"
      },
      "outputs": [
        {
          "data": {
            "application/vnd.jupyter.widget-view+json": {
              "model_id": "3e3f1872a91840caaa5f6cb9708552fa",
              "version_major": 2,
              "version_minor": 0
            },
            "text/plain": [
              "VBox()"
            ]
          },
          "metadata": {},
          "output_type": "display_data"
        },
        {
          "data": {
            "application/vnd.jupyter.widget-view+json": {
              "model_id": "",
              "version_major": 2,
              "version_minor": 0
            },
            "text/plain": [
              "FloatProgress(value=0.0, bar_style='info', description='Progress:', layout=Layout(height='25px', width='50%'),…"
            ]
          },
          "metadata": {},
          "output_type": "display_data"
        },
        {
          "name": "stderr",
          "output_type": "stream",
          "text": [
            "Exception in thread cell_monitor-17:\n",
            "Traceback (most recent call last):\n",
            "  File \"/mnt/notebook-env/lib/python3.7/threading.py\", line 926, in _bootstrap_inner\n",
            "    self.run()\n",
            "  File \"/mnt/notebook-env/lib/python3.7/threading.py\", line 870, in run\n",
            "    self._target(*self._args, **self._kwargs)\n",
            "  File \"/mnt/notebook-env/lib/python3.7/site-packages/awseditorssparkmonitoringwidget-1.0-py3.7.egg/awseditorssparkmonitoringwidget/cellmonitor.py\", line 154, in cell_monitor\n",
            "    job_group_filtered_jobs = [job for job in jobs_data if job['jobGroup'] == str(statement_id)]\n",
            "  File \"/mnt/notebook-env/lib/python3.7/site-packages/awseditorssparkmonitoringwidget-1.0-py3.7.egg/awseditorssparkmonitoringwidget/cellmonitor.py\", line 154, in <listcomp>\n",
            "    job_group_filtered_jobs = [job for job in jobs_data if job['jobGroup'] == str(statement_id)]\n",
            "KeyError: 'jobGroup'\n",
            "\n"
          ]
        }
      ],
      "source": [
        "# Make predictions on the test data\n",
        "predictions = cvModel.transform(scaled_data)"
      ]
    },
    {
      "cell_type": "code",
      "execution_count": null,
      "id": "6616ef43",
      "metadata": {
        "colab": {
          "referenced_widgets": [
            "f3cba53a36b34718bfcb355b609d482c",
            ""
          ]
        },
        "id": "6616ef43",
        "outputId": "2e31ef28-657f-4370-e58d-a65e4a9916d7"
      },
      "outputs": [
        {
          "data": {
            "application/vnd.jupyter.widget-view+json": {
              "model_id": "f3cba53a36b34718bfcb355b609d482c",
              "version_major": 2,
              "version_minor": 0
            },
            "text/plain": [
              "VBox()"
            ]
          },
          "metadata": {},
          "output_type": "display_data"
        },
        {
          "data": {
            "application/vnd.jupyter.widget-view+json": {
              "model_id": "",
              "version_major": 2,
              "version_minor": 0
            },
            "text/plain": [
              "FloatProgress(value=0.0, bar_style='info', description='Progress:', layout=Layout(height='25px', width='50%'),…"
            ]
          },
          "metadata": {},
          "output_type": "display_data"
        },
        {
          "name": "stderr",
          "output_type": "stream",
          "text": [
            "Exception in thread cell_monitor-18:\n",
            "Traceback (most recent call last):\n",
            "  File \"/mnt/notebook-env/lib/python3.7/threading.py\", line 926, in _bootstrap_inner\n",
            "    self.run()\n",
            "  File \"/mnt/notebook-env/lib/python3.7/threading.py\", line 870, in run\n",
            "    self._target(*self._args, **self._kwargs)\n",
            "  File \"/mnt/notebook-env/lib/python3.7/site-packages/awseditorssparkmonitoringwidget-1.0-py3.7.egg/awseditorssparkmonitoringwidget/cellmonitor.py\", line 154, in cell_monitor\n",
            "    job_group_filtered_jobs = [job for job in jobs_data if job['jobGroup'] == str(statement_id)]\n",
            "  File \"/mnt/notebook-env/lib/python3.7/site-packages/awseditorssparkmonitoringwidget-1.0-py3.7.egg/awseditorssparkmonitoringwidget/cellmonitor.py\", line 154, in <listcomp>\n",
            "    job_group_filtered_jobs = [job for job in jobs_data if job['jobGroup'] == str(statement_id)]\n",
            "KeyError: 'jobGroup'\n",
            "\n"
          ]
        },
        {
          "name": "stdout",
          "output_type": "stream",
          "text": [
            "+----------+-----+\n",
            "|prediction|churn|\n",
            "+----------+-----+\n",
            "|       0.0|    1|\n",
            "|       0.0|    0|\n",
            "|       0.0|    0|\n",
            "|       0.0|    0|\n",
            "|       0.0|    0|\n",
            "|       0.0|    0|\n",
            "|       0.0|    0|\n",
            "|       0.0|    1|\n",
            "|       0.0|    0|\n",
            "|       0.0|    0|\n",
            "|       0.0|    0|\n",
            "|       0.0|    0|\n",
            "|       0.0|    1|\n",
            "|       0.0|    0|\n",
            "|       0.0|    0|\n",
            "|       0.0|    0|\n",
            "|       0.0|    0|\n",
            "|       0.0|    0|\n",
            "|       0.0|    1|\n",
            "|       0.0|    0|\n",
            "+----------+-----+\n",
            "only showing top 20 rows"
          ]
        }
      ],
      "source": [
        "# Show predictions\n",
        "predictions.select(\"prediction\", \"churn\").show()"
      ]
    },
    {
      "cell_type": "markdown",
      "id": "042de2a0",
      "metadata": {
        "id": "042de2a0"
      },
      "source": [
        "**The output** above is as anticipated. To describe what has transpired above in the three cells above: This code performs hyperparameter tuning on the logistic regression model, using a grid of regParam and elasticNetParam values. It uses 3-fold cross-validation, and selects the model with the best AUC-ROC as measured by the BinaryClassificationEvaluator. The best model is then used to make predictions on the test data."
      ]
    },
    {
      "cell_type": "markdown",
      "id": "450640c9",
      "metadata": {
        "id": "450640c9"
      },
      "source": [
        "**Having applied**  the logistic regression model to make predictions on our test data, we proceed to calculate the model performance metrics as follows:"
      ]
    },
    {
      "cell_type": "code",
      "execution_count": null,
      "id": "027ea581",
      "metadata": {
        "colab": {
          "referenced_widgets": [
            "7e8f42029dd646e6b2872a41b05c6cbd",
            ""
          ]
        },
        "id": "027ea581",
        "outputId": "37fda2a3-ba9b-40cd-a8f4-64e9b575ce4f"
      },
      "outputs": [
        {
          "data": {
            "application/vnd.jupyter.widget-view+json": {
              "model_id": "7e8f42029dd646e6b2872a41b05c6cbd",
              "version_major": 2,
              "version_minor": 0
            },
            "text/plain": [
              "VBox()"
            ]
          },
          "metadata": {},
          "output_type": "display_data"
        },
        {
          "data": {
            "application/vnd.jupyter.widget-view+json": {
              "model_id": "",
              "version_major": 2,
              "version_minor": 0
            },
            "text/plain": [
              "FloatProgress(value=0.0, bar_style='info', description='Progress:', layout=Layout(height='25px', width='50%'),…"
            ]
          },
          "metadata": {},
          "output_type": "display_data"
        },
        {
          "name": "stderr",
          "output_type": "stream",
          "text": [
            "Exception in thread cell_monitor-21:\n",
            "Traceback (most recent call last):\n",
            "  File \"/mnt/notebook-env/lib/python3.7/threading.py\", line 926, in _bootstrap_inner\n",
            "    self.run()\n",
            "  File \"/mnt/notebook-env/lib/python3.7/threading.py\", line 870, in run\n",
            "    self._target(*self._args, **self._kwargs)\n",
            "  File \"/mnt/notebook-env/lib/python3.7/site-packages/awseditorssparkmonitoringwidget-1.0-py3.7.egg/awseditorssparkmonitoringwidget/cellmonitor.py\", line 154, in cell_monitor\n",
            "    job_group_filtered_jobs = [job for job in jobs_data if job['jobGroup'] == str(statement_id)]\n",
            "  File \"/mnt/notebook-env/lib/python3.7/site-packages/awseditorssparkmonitoringwidget-1.0-py3.7.egg/awseditorssparkmonitoringwidget/cellmonitor.py\", line 154, in <listcomp>\n",
            "    job_group_filtered_jobs = [job for job in jobs_data if job['jobGroup'] == str(statement_id)]\n",
            "KeyError: 'jobGroup'\n",
            "\n"
          ]
        },
        {
          "name": "stdout",
          "output_type": "stream",
          "text": [
            "Model Performance Summary:\n",
            "Accuracy = 0.80\n",
            "Precision = 0.64\n",
            "Recall = 0.80\n",
            "F1 Score = 0.71\n",
            "AUC = 0.50"
          ]
        }
      ],
      "source": [
        "from pyspark.ml.evaluation import BinaryClassificationEvaluator, MulticlassClassificationEvaluator\n",
        "\n",
        "# Define the evaluators\n",
        "binary_evaluator = BinaryClassificationEvaluator(labelCol='churn')\n",
        "multi_evaluator = MulticlassClassificationEvaluator(labelCol='churn')\n",
        "\n",
        "# Compute the evaluation metrics\n",
        "accuracy = multi_evaluator.evaluate(predictions, {multi_evaluator.metricName: \"accuracy\"})\n",
        "precision = multi_evaluator.evaluate(predictions, {multi_evaluator.metricName: \"weightedPrecision\"})\n",
        "recall = multi_evaluator.evaluate(predictions, {multi_evaluator.metricName: \"weightedRecall\"})\n",
        "f1 = multi_evaluator.evaluate(predictions, {multi_evaluator.metricName: \"f1\"})\n",
        "auc = binary_evaluator.evaluate(predictions)\n",
        "\n",
        "# Print the evaluation metrics\n",
        "print(\"Model Performance Summary:\")\n",
        "print(\"Accuracy = {:.2f}\".format(accuracy))\n",
        "print(\"Precision = {:.2f}\".format(precision))\n",
        "print(\"Recall = {:.2f}\".format(recall))\n",
        "print(\"F1 Score = {:.2f}\".format(f1))\n",
        "print(\"AUC = {:.2f}\".format(auc))\n"
      ]
    },
    {
      "cell_type": "markdown",
      "id": "68438925",
      "metadata": {
        "id": "68438925"
      },
      "source": [
        "**We interpret these numbers below**"
      ]
    },
    {
      "cell_type": "markdown",
      "id": "b23621c1",
      "metadata": {
        "id": "b23621c1"
      },
      "source": [
        "- Accuracy (0.8): This means that 80% of the time, the model correctly predicted whether a customer churned or not.\n",
        "- Precision (0.64): Precision is the proportion of true positive predictions (in this case, customers that churned and were correctly predicted as such) out of all positive predictions (all customers predicted to churn). So, of all the customers that the model predicted would churn, 64% of them actually did churn.\n",
        "- Recall (0.8): Recall, or sensitivity, is the proportion of true positive predictions out of all actual positives (all customers who actually churned). So,the model correctly identified 80% of the customers who churned.\n",
        "- F1 Score (0.71): The F1 Score is the harmonic mean of precision and recall. It's a single metric that combines both precision and recall. An F1 Score closer to 1 indicates a better balance between precision and recall. The F1 score is 0.71, which indicates a reasonably good balance.\n",
        "- AUC (0.5): The Area Under the ROC Curve (AUC-ROC) is a measure of the model's ability to distinguish between positive and negative classes. An AUC of 0.5 indicates that the model has no discrimination capacity to distinguish between positive and negative classes.\n",
        "\n",
        "\n",
        "It seems like the model has good accuracy, recall, and a reasonable F1 score, but the AUC is quite low. The low AUC might be a result of the class imbalance in the data, poor predictive power of the features, or it might need further tuning of hyperparameters or more advanced feature engineering.\n"
      ]
    },
    {
      "cell_type": "markdown",
      "id": "f4b34817",
      "metadata": {
        "id": "f4b34817"
      },
      "source": [
        "**Below we attempt to print the intercepts and coefficients of the models' predictor variables**"
      ]
    },
    {
      "cell_type": "code",
      "execution_count": null,
      "id": "fe745088",
      "metadata": {
        "colab": {
          "referenced_widgets": [
            "dae5309a05b5417684ee79a072e63f9f",
            ""
          ]
        },
        "id": "fe745088",
        "outputId": "afc7a9ef-cee5-4f38-948e-c19d268dec69"
      },
      "outputs": [
        {
          "data": {
            "application/vnd.jupyter.widget-view+json": {
              "model_id": "dae5309a05b5417684ee79a072e63f9f",
              "version_major": 2,
              "version_minor": 0
            },
            "text/plain": [
              "VBox()"
            ]
          },
          "metadata": {},
          "output_type": "display_data"
        },
        {
          "data": {
            "application/vnd.jupyter.widget-view+json": {
              "model_id": "",
              "version_major": 2,
              "version_minor": 0
            },
            "text/plain": [
              "FloatProgress(value=0.0, bar_style='info', description='Progress:', layout=Layout(height='25px', width='50%'),…"
            ]
          },
          "metadata": {},
          "output_type": "display_data"
        },
        {
          "name": "stdout",
          "output_type": "stream",
          "text": [
            "Coefficients: (11,[],[])\n",
            "Intercept: -1.3862943611198906"
          ]
        },
        {
          "name": "stderr",
          "output_type": "stream",
          "text": [
            "Exception in thread cell_monitor-22:\n",
            "Traceback (most recent call last):\n",
            "  File \"/mnt/notebook-env/lib/python3.7/threading.py\", line 926, in _bootstrap_inner\n",
            "    self.run()\n",
            "  File \"/mnt/notebook-env/lib/python3.7/threading.py\", line 870, in run\n",
            "    self._target(*self._args, **self._kwargs)\n",
            "  File \"/mnt/notebook-env/lib/python3.7/site-packages/awseditorssparkmonitoringwidget-1.0-py3.7.egg/awseditorssparkmonitoringwidget/cellmonitor.py\", line 154, in cell_monitor\n",
            "    job_group_filtered_jobs = [job for job in jobs_data if job['jobGroup'] == str(statement_id)]\n",
            "  File \"/mnt/notebook-env/lib/python3.7/site-packages/awseditorssparkmonitoringwidget-1.0-py3.7.egg/awseditorssparkmonitoringwidget/cellmonitor.py\", line 154, in <listcomp>\n",
            "    job_group_filtered_jobs = [job for job in jobs_data if job['jobGroup'] == str(statement_id)]\n",
            "KeyError: 'jobGroup'\n",
            "\n"
          ]
        }
      ],
      "source": [
        "# Get the best Logistic Regression model\n",
        "bestModel = cvModel.bestModel\n",
        "\n",
        "# Print the coefficients and intercept for logistic regression\n",
        "print(\"Coefficients: \" + str(bestModel.coefficients))\n",
        "print(\"Intercept: \" + str(bestModel.intercept))"
      ]
    },
    {
      "cell_type": "code",
      "execution_count": null,
      "id": "d0b39e03",
      "metadata": {
        "colab": {
          "referenced_widgets": [
            "38683ee1e4b84ff9ab762f04519dd30c",
            ""
          ]
        },
        "id": "d0b39e03",
        "outputId": "f185de50-66e5-4c65-c898-30e9626a0365"
      },
      "outputs": [
        {
          "data": {
            "application/vnd.jupyter.widget-view+json": {
              "model_id": "38683ee1e4b84ff9ab762f04519dd30c",
              "version_major": 2,
              "version_minor": 0
            },
            "text/plain": [
              "VBox()"
            ]
          },
          "metadata": {},
          "output_type": "display_data"
        },
        {
          "data": {
            "application/vnd.jupyter.widget-view+json": {
              "model_id": "",
              "version_major": 2,
              "version_minor": 0
            },
            "text/plain": [
              "FloatProgress(value=0.0, bar_style='info', description='Progress:', layout=Layout(height='25px', width='50%'),…"
            ]
          },
          "metadata": {},
          "output_type": "display_data"
        },
        {
          "name": "stderr",
          "output_type": "stream",
          "text": [
            "Exception in thread cell_monitor-23:\n",
            "Traceback (most recent call last):\n",
            "  File \"/mnt/notebook-env/lib/python3.7/threading.py\", line 926, in _bootstrap_inner\n",
            "    self.run()\n",
            "  File \"/mnt/notebook-env/lib/python3.7/threading.py\", line 870, in run\n",
            "    self._target(*self._args, **self._kwargs)\n",
            "  File \"/mnt/notebook-env/lib/python3.7/site-packages/awseditorssparkmonitoringwidget-1.0-py3.7.egg/awseditorssparkmonitoringwidget/cellmonitor.py\", line 154, in cell_monitor\n",
            "    job_group_filtered_jobs = [job for job in jobs_data if job['jobGroup'] == str(statement_id)]\n",
            "  File \"/mnt/notebook-env/lib/python3.7/site-packages/awseditorssparkmonitoringwidget-1.0-py3.7.egg/awseditorssparkmonitoringwidget/cellmonitor.py\", line 154, in <listcomp>\n",
            "    job_group_filtered_jobs = [job for job in jobs_data if job['jobGroup'] == str(statement_id)]\n",
            "KeyError: 'jobGroup'\n",
            "\n"
          ]
        },
        {
          "name": "stdout",
          "output_type": "stream",
          "text": [
            "Coefficients: (11,[],[])\n",
            "Intercept: -1.3862943611198906\n",
            "ROC: Area Under Curve (AUC) = 0.5\n",
            "('pincode_index', 0.0)\n",
            "('gender_index', 0.0)\n",
            "('city_index', 0.0)\n",
            "('state_index', 0.0)\n",
            "('telecom_partner_index', 0.0)\n",
            "('age', 0.0)\n",
            "('num_dependents', 0.0)\n",
            "('estimated_salary', 0.0)\n",
            "('calls_made', 0.0)\n",
            "('sms_sent', 0.0)\n",
            "('data_used', 0.0)"
          ]
        }
      ],
      "source": [
        "# Get the best Logistic Regression model\n",
        "bestModel = cvModel.bestModel\n",
        "\n",
        "# Print the coefficients and intercept for logistic regression\n",
        "print(\"Coefficients: \" + str(bestModel.coefficients))\n",
        "print(\"Intercept: \" + str(bestModel.intercept))\n",
        "\n",
        "# Obtain the receiver-operating characteristic as a DataFrame and areaUnderROC.\n",
        "trainingSummary = bestModel.summary\n",
        "print(\"ROC: Area Under Curve (AUC) = \" + str(trainingSummary.areaUnderROC))\n",
        "\n",
        "# Get the model coefficients\n",
        "coefficients = bestModel.coefficients\n",
        "\n",
        "# Map feature names to coefficients\n",
        "feature_names = assemblerInputs\n",
        "feature_coefficients = list(zip(feature_names, coefficients))\n",
        "\n",
        "for feature in feature_coefficients:\n",
        "    print(feature)\n"
      ]
    },
    {
      "cell_type": "markdown",
      "id": "429fa799",
      "metadata": {
        "id": "429fa799"
      },
      "source": [
        "**If you observe closely you'll notice something unusual.**\n",
        "\n",
        "The output suggests that all the coefficients for the independent variables in the logistic regression model are 0. This is unusual and implies that, according to the model, none of the features have any influence on the target variable 'churn'.\n",
        "\n",
        "\n",
        "**We believe** this is because the regularization parameter is set too high. When this is the case, it could push all coefficients towards zero."
      ]
    },
    {
      "cell_type": "markdown",
      "id": "d5b536ed",
      "metadata": {
        "id": "d5b536ed"
      },
      "source": [
        "**So** we adjust the values of the regularization parameter (regParam) in the model and rerun the model to see if there is any difference in outcome."
      ]
    },
    {
      "cell_type": "code",
      "execution_count": null,
      "id": "c617435d",
      "metadata": {
        "colab": {
          "referenced_widgets": [
            "8f589e9eece146a4bc17f7ff1949a03d",
            ""
          ]
        },
        "id": "c617435d",
        "outputId": "298407d9-35e8-4fac-f888-eead2f6fdb2a"
      },
      "outputs": [
        {
          "data": {
            "application/vnd.jupyter.widget-view+json": {
              "model_id": "8f589e9eece146a4bc17f7ff1949a03d",
              "version_major": 2,
              "version_minor": 0
            },
            "text/plain": [
              "VBox()"
            ]
          },
          "metadata": {},
          "output_type": "display_data"
        },
        {
          "data": {
            "application/vnd.jupyter.widget-view+json": {
              "model_id": "",
              "version_major": 2,
              "version_minor": 0
            },
            "text/plain": [
              "FloatProgress(value=0.0, bar_style='info', description='Progress:', layout=Layout(height='25px', width='50%'),…"
            ]
          },
          "metadata": {},
          "output_type": "display_data"
        },
        {
          "name": "stderr",
          "output_type": "stream",
          "text": [
            "Exception in thread cell_monitor-25:\n",
            "Traceback (most recent call last):\n",
            "  File \"/mnt/notebook-env/lib/python3.7/threading.py\", line 926, in _bootstrap_inner\n",
            "    self.run()\n",
            "  File \"/mnt/notebook-env/lib/python3.7/threading.py\", line 870, in run\n",
            "    self._target(*self._args, **self._kwargs)\n",
            "  File \"/mnt/notebook-env/lib/python3.7/site-packages/awseditorssparkmonitoringwidget-1.0-py3.7.egg/awseditorssparkmonitoringwidget/cellmonitor.py\", line 154, in cell_monitor\n",
            "    job_group_filtered_jobs = [job for job in jobs_data if job['jobGroup'] == str(statement_id)]\n",
            "  File \"/mnt/notebook-env/lib/python3.7/site-packages/awseditorssparkmonitoringwidget-1.0-py3.7.egg/awseditorssparkmonitoringwidget/cellmonitor.py\", line 154, in <listcomp>\n",
            "    job_group_filtered_jobs = [job for job in jobs_data if job['jobGroup'] == str(statement_id)]\n",
            "KeyError: 'jobGroup'\n",
            "\n"
          ]
        }
      ],
      "source": [
        "# Logistic Regression model\n",
        "lr = LogisticRegression(featuresCol=\"scaledFeatures\", labelCol=\"churn\")"
      ]
    },
    {
      "cell_type": "code",
      "execution_count": null,
      "id": "58dc6557",
      "metadata": {
        "colab": {
          "referenced_widgets": [
            "b0ae4066ea1b4fa29574d4316cc343d7",
            ""
          ]
        },
        "id": "58dc6557",
        "outputId": "101f2b9a-7dda-424d-afdc-d3e9e7f4d9bf"
      },
      "outputs": [
        {
          "data": {
            "application/vnd.jupyter.widget-view+json": {
              "model_id": "b0ae4066ea1b4fa29574d4316cc343d7",
              "version_major": 2,
              "version_minor": 0
            },
            "text/plain": [
              "VBox()"
            ]
          },
          "metadata": {},
          "output_type": "display_data"
        },
        {
          "data": {
            "application/vnd.jupyter.widget-view+json": {
              "model_id": "",
              "version_major": 2,
              "version_minor": 0
            },
            "text/plain": [
              "FloatProgress(value=0.0, bar_style='info', description='Progress:', layout=Layout(height='25px', width='50%'),…"
            ]
          },
          "metadata": {},
          "output_type": "display_data"
        },
        {
          "name": "stderr",
          "output_type": "stream",
          "text": [
            "Exception in thread cell_monitor-26:\n",
            "Traceback (most recent call last):\n",
            "  File \"/mnt/notebook-env/lib/python3.7/threading.py\", line 926, in _bootstrap_inner\n",
            "    self.run()\n",
            "  File \"/mnt/notebook-env/lib/python3.7/threading.py\", line 870, in run\n",
            "    self._target(*self._args, **self._kwargs)\n",
            "  File \"/mnt/notebook-env/lib/python3.7/site-packages/awseditorssparkmonitoringwidget-1.0-py3.7.egg/awseditorssparkmonitoringwidget/cellmonitor.py\", line 154, in cell_monitor\n",
            "    job_group_filtered_jobs = [job for job in jobs_data if job['jobGroup'] == str(statement_id)]\n",
            "  File \"/mnt/notebook-env/lib/python3.7/site-packages/awseditorssparkmonitoringwidget-1.0-py3.7.egg/awseditorssparkmonitoringwidget/cellmonitor.py\", line 154, in <listcomp>\n",
            "    job_group_filtered_jobs = [job for job in jobs_data if job['jobGroup'] == str(statement_id)]\n",
            "KeyError: 'jobGroup'\n",
            "\n"
          ]
        }
      ],
      "source": [
        "# Define the parameter grid\n",
        "# Tune hyperparameter. notice the parameter as much lower than before\n",
        "paramGrid = ParamGridBuilder() \\\n",
        "    .addGrid(lr.regParam, [0.0, 0.01, 0.1, 1.0, 10.0]) \\\n",
        "    .addGrid(lr.elasticNetParam, [0.0]) \\\n",
        "    .build()\n",
        "\n",
        "# Define the cross-validation\n",
        "crossval = CrossValidator(estimator=lr,\n",
        "                          estimatorParamMaps=paramGrid,\n",
        "                          evaluator=BinaryClassificationEvaluator(labelCol='churn'),\n",
        "                          numFolds=3)\n",
        "\n",
        "# Run cross-validation, and choose the best set of parameters.\n",
        "cvModel = crossval.fit(scaled_data)"
      ]
    },
    {
      "cell_type": "code",
      "execution_count": null,
      "id": "e5f9acb8",
      "metadata": {
        "colab": {
          "referenced_widgets": [
            "47ee74af486e4a02a6bcbb2633f51f6d",
            ""
          ]
        },
        "id": "e5f9acb8",
        "outputId": "a37ce693-c1a5-4980-db86-0324d9626e71"
      },
      "outputs": [
        {
          "data": {
            "application/vnd.jupyter.widget-view+json": {
              "model_id": "47ee74af486e4a02a6bcbb2633f51f6d",
              "version_major": 2,
              "version_minor": 0
            },
            "text/plain": [
              "VBox()"
            ]
          },
          "metadata": {},
          "output_type": "display_data"
        },
        {
          "data": {
            "application/vnd.jupyter.widget-view+json": {
              "model_id": "",
              "version_major": 2,
              "version_minor": 0
            },
            "text/plain": [
              "FloatProgress(value=0.0, bar_style='info', description='Progress:', layout=Layout(height='25px', width='50%'),…"
            ]
          },
          "metadata": {},
          "output_type": "display_data"
        },
        {
          "name": "stderr",
          "output_type": "stream",
          "text": [
            "Exception in thread cell_monitor-27:\n",
            "Traceback (most recent call last):\n",
            "  File \"/mnt/notebook-env/lib/python3.7/threading.py\", line 926, in _bootstrap_inner\n",
            "    self.run()\n",
            "  File \"/mnt/notebook-env/lib/python3.7/threading.py\", line 870, in run\n",
            "    self._target(*self._args, **self._kwargs)\n",
            "  File \"/mnt/notebook-env/lib/python3.7/site-packages/awseditorssparkmonitoringwidget-1.0-py3.7.egg/awseditorssparkmonitoringwidget/cellmonitor.py\", line 154, in cell_monitor\n",
            "    job_group_filtered_jobs = [job for job in jobs_data if job['jobGroup'] == str(statement_id)]\n",
            "  File \"/mnt/notebook-env/lib/python3.7/site-packages/awseditorssparkmonitoringwidget-1.0-py3.7.egg/awseditorssparkmonitoringwidget/cellmonitor.py\", line 154, in <listcomp>\n",
            "    job_group_filtered_jobs = [job for job in jobs_data if job['jobGroup'] == str(statement_id)]\n",
            "KeyError: 'jobGroup'\n",
            "\n"
          ]
        }
      ],
      "source": [
        "# Make predictions on the test data\n",
        "predictions = cvModel.transform(scaled_data)\n"
      ]
    },
    {
      "cell_type": "code",
      "execution_count": null,
      "id": "d11ecc23",
      "metadata": {
        "colab": {
          "referenced_widgets": [
            "c5feaed3313a4f7a9246dfedf5653364",
            ""
          ]
        },
        "id": "d11ecc23",
        "outputId": "09c0456e-d313-4176-85ac-f171ae92f53f"
      },
      "outputs": [
        {
          "data": {
            "application/vnd.jupyter.widget-view+json": {
              "model_id": "c5feaed3313a4f7a9246dfedf5653364",
              "version_major": 2,
              "version_minor": 0
            },
            "text/plain": [
              "VBox()"
            ]
          },
          "metadata": {},
          "output_type": "display_data"
        },
        {
          "data": {
            "application/vnd.jupyter.widget-view+json": {
              "model_id": "",
              "version_major": 2,
              "version_minor": 0
            },
            "text/plain": [
              "FloatProgress(value=0.0, bar_style='info', description='Progress:', layout=Layout(height='25px', width='50%'),…"
            ]
          },
          "metadata": {},
          "output_type": "display_data"
        },
        {
          "name": "stderr",
          "output_type": "stream",
          "text": [
            "Exception in thread cell_monitor-28:\n",
            "Traceback (most recent call last):\n",
            "  File \"/mnt/notebook-env/lib/python3.7/threading.py\", line 926, in _bootstrap_inner\n",
            "    self.run()\n",
            "  File \"/mnt/notebook-env/lib/python3.7/threading.py\", line 870, in run\n",
            "    self._target(*self._args, **self._kwargs)\n",
            "  File \"/mnt/notebook-env/lib/python3.7/site-packages/awseditorssparkmonitoringwidget-1.0-py3.7.egg/awseditorssparkmonitoringwidget/cellmonitor.py\", line 154, in cell_monitor\n",
            "    job_group_filtered_jobs = [job for job in jobs_data if job['jobGroup'] == str(statement_id)]\n",
            "  File \"/mnt/notebook-env/lib/python3.7/site-packages/awseditorssparkmonitoringwidget-1.0-py3.7.egg/awseditorssparkmonitoringwidget/cellmonitor.py\", line 154, in <listcomp>\n",
            "    job_group_filtered_jobs = [job for job in jobs_data if job['jobGroup'] == str(statement_id)]\n",
            "KeyError: 'jobGroup'\n",
            "\n"
          ]
        },
        {
          "name": "stdout",
          "output_type": "stream",
          "text": [
            "+----------+-----+\n",
            "|prediction|churn|\n",
            "+----------+-----+\n",
            "|       0.0|    1|\n",
            "|       0.0|    0|\n",
            "|       0.0|    0|\n",
            "|       0.0|    0|\n",
            "|       0.0|    0|\n",
            "|       0.0|    0|\n",
            "|       0.0|    0|\n",
            "|       0.0|    1|\n",
            "|       0.0|    0|\n",
            "|       0.0|    0|\n",
            "|       0.0|    0|\n",
            "|       0.0|    0|\n",
            "|       0.0|    1|\n",
            "|       0.0|    0|\n",
            "|       0.0|    0|\n",
            "|       0.0|    0|\n",
            "|       0.0|    0|\n",
            "|       0.0|    0|\n",
            "|       0.0|    1|\n",
            "|       0.0|    0|\n",
            "+----------+-----+\n",
            "only showing top 20 rows"
          ]
        }
      ],
      "source": [
        "# Show predictions\n",
        "predictions.select(\"prediction\", \"churn\").show()\n"
      ]
    },
    {
      "cell_type": "markdown",
      "id": "f8da96f7",
      "metadata": {
        "id": "f8da96f7"
      },
      "source": [
        "**Below we print the coefficients as we did earlier to see if they are any different than zero**"
      ]
    },
    {
      "cell_type": "code",
      "execution_count": null,
      "id": "f20ff063",
      "metadata": {
        "colab": {
          "referenced_widgets": [
            "95207b42867c44f0bf9c8c014212d877",
            ""
          ]
        },
        "id": "f20ff063",
        "outputId": "86b0143d-956e-4246-c122-fc906318fef2"
      },
      "outputs": [
        {
          "data": {
            "application/vnd.jupyter.widget-view+json": {
              "model_id": "95207b42867c44f0bf9c8c014212d877",
              "version_major": 2,
              "version_minor": 0
            },
            "text/plain": [
              "VBox()"
            ]
          },
          "metadata": {},
          "output_type": "display_data"
        },
        {
          "data": {
            "application/vnd.jupyter.widget-view+json": {
              "model_id": "",
              "version_major": 2,
              "version_minor": 0
            },
            "text/plain": [
              "FloatProgress(value=0.0, bar_style='info', description='Progress:', layout=Layout(height='25px', width='50%'),…"
            ]
          },
          "metadata": {},
          "output_type": "display_data"
        },
        {
          "name": "stderr",
          "output_type": "stream",
          "text": [
            "Exception in thread cell_monitor-30:\n",
            "Traceback (most recent call last):\n",
            "  File \"/mnt/notebook-env/lib/python3.7/threading.py\", line 926, in _bootstrap_inner\n",
            "    self.run()\n",
            "  File \"/mnt/notebook-env/lib/python3.7/threading.py\", line 870, in run\n",
            "    self._target(*self._args, **self._kwargs)\n",
            "  File \"/mnt/notebook-env/lib/python3.7/site-packages/awseditorssparkmonitoringwidget-1.0-py3.7.egg/awseditorssparkmonitoringwidget/cellmonitor.py\", line 154, in cell_monitor\n",
            "    job_group_filtered_jobs = [job for job in jobs_data if job['jobGroup'] == str(statement_id)]\n",
            "  File \"/mnt/notebook-env/lib/python3.7/site-packages/awseditorssparkmonitoringwidget-1.0-py3.7.egg/awseditorssparkmonitoringwidget/cellmonitor.py\", line 154, in <listcomp>\n",
            "    job_group_filtered_jobs = [job for job in jobs_data if job['jobGroup'] == str(statement_id)]\n",
            "KeyError: 'jobGroup'\n",
            "\n"
          ]
        },
        {
          "name": "stdout",
          "output_type": "stream",
          "text": [
            "Coefficients: [-0.005766840139288066,-0.011607216809631143,0.028847941732903025,0.02969447799298724,0.03802321179498868,-0.016963496208451955,-0.010127339613500501,0.008093214541628304,0.004007294767260409,-0.04502621461426905,-0.02256252550701667]\n",
            "Intercept: -1.3610341860912762\n",
            "ROC: Area Under Curve (AUC) = 0.5218774038461532\n",
            "('pincode_index', -0.005766840139288066)\n",
            "('gender_index', -0.011607216809631143)\n",
            "('city_index', 0.028847941732903025)\n",
            "('state_index', 0.02969447799298724)\n",
            "('telecom_partner_index', 0.03802321179498868)\n",
            "('age', -0.016963496208451955)\n",
            "('num_dependents', -0.010127339613500501)\n",
            "('estimated_salary', 0.008093214541628304)\n",
            "('calls_made', 0.004007294767260409)\n",
            "('sms_sent', -0.04502621461426905)\n",
            "('data_used', -0.02256252550701667)"
          ]
        }
      ],
      "source": [
        "# Get the best Logistic Regression model\n",
        "bestModel = cvModel.bestModel\n",
        "\n",
        "# Print the coefficients and intercept for logistic regression\n",
        "print(\"Coefficients: \" + str(bestModel.coefficients))\n",
        "print(\"Intercept: \" + str(bestModel.intercept))\n",
        "\n",
        "# Obtain the receiver-operating characteristic as a DataFrame and areaUnderROC.\n",
        "trainingSummary = bestModel.summary\n",
        "print(\"ROC: Area Under Curve (AUC) = \" + str(trainingSummary.areaUnderROC))\n",
        "\n",
        "# Get the model coefficients\n",
        "coefficients = bestModel.coefficients\n",
        "\n",
        "# Map feature names to coefficients\n",
        "feature_names = assemblerInputs\n",
        "feature_coefficients = list(zip(feature_names, coefficients))\n",
        "\n",
        "for feature in feature_coefficients:\n",
        "    print(feature)\n"
      ]
    },
    {
      "cell_type": "markdown",
      "id": "8d9553b6",
      "metadata": {
        "id": "8d9553b6"
      },
      "source": [
        "**As you can see the coefficients are now more reasonable than the first iteration** It appears the hyperparameters was set too high in the first instance.\n",
        "\n",
        "**To provide** some more context:\n",
        "\n",
        "The regParam is a regularization parameter. Regularization is a technique used to prevent overfitting by adding a penalty term to the loss function. If regParam is too large, it may result in underfitting, which might push all coefficients towards zero.\n",
        "\n",
        "On the other hand, elasticNetParam corresponds to the Elastic Net mixing parameter. If elasticNetParam = 0, the trained model will be L2 regularization (Ridge). If elasticNetParam = 1, it will be L1 regularization (Lasso).\n",
        "\n",
        "What we did was use a wider range of regParam values and fix elasticNetParam to 0 (which means we're using L2 or Ridge regularization)"
      ]
    },
    {
      "cell_type": "markdown",
      "id": "10cd4f57",
      "metadata": {
        "id": "10cd4f57"
      },
      "source": [
        "**With respect to interpretation**\n",
        "\n",
        "- The intercept (−1.3610341860912762) is the log-odds of the 'churn' event when all the independent variables are held at zero. In the context of your logistic regression model, it's not very interpretable because the independent variables can't all be zero at the same time (for example, 'age' can't be zero).\n",
        "\n",
        "- 'pincode_index' ( − 0.005766840139288066): For each one-unit increase in 'pincode_index', the log-odds of 'churn' decreases by approximately 0.00577, given all other variables are held constant.\n",
        "- 'gender_index' (−0.011607216809631143): For each one-unit increase in 'gender_index', the log-odds of 'churn' decreases by approximately 0.0116, given all other variables are held constant.\n",
        "- 'city_index' (0.028847941732903025): For each one-unit increase in 'city_index', the log-odds of 'churn' increases by approximately 0.02885, given all other variables are held constant.\n",
        "- 'state_index' (0.02969447799298724): For each one-unit increase in 'state_index', the log-odds of 'churn' increases by approximately 0.02969, given all other variables are held constant.\n",
        "And so on...\n",
        "\n",
        "It is important to note that the coefficients are based on the scaled features. Therefore, a one-unit change is in terms of the standardized values, not the original scale of the variables.\n",
        "\n",
        "\n",
        "\n",
        "- **The AUC-ROC (0.5218774038461532) is a measure of the overall performance of the model. It ranges from 0.5 to 1, where 0.5 indicates a model that performs no better than random guessing, and 1 indicates a model that performs perfectly. An AUC-ROC of approximately 0.52 suggests that the model's performance is slightly better than random guessing, but there's certainly room for improvement.**"
      ]
    },
    {
      "cell_type": "code",
      "execution_count": null,
      "id": "61a37609",
      "metadata": {
        "colab": {
          "referenced_widgets": [
            "a65e44b3d16143ebabc66bdc5be5911f",
            ""
          ]
        },
        "id": "61a37609",
        "outputId": "fa08ec83-5201-4c0a-b631-0c35ed4055c3"
      },
      "outputs": [
        {
          "data": {
            "application/vnd.jupyter.widget-view+json": {
              "model_id": "a65e44b3d16143ebabc66bdc5be5911f",
              "version_major": 2,
              "version_minor": 0
            },
            "text/plain": [
              "VBox()"
            ]
          },
          "metadata": {},
          "output_type": "display_data"
        },
        {
          "data": {
            "application/vnd.jupyter.widget-view+json": {
              "model_id": "",
              "version_major": 2,
              "version_minor": 0
            },
            "text/plain": [
              "FloatProgress(value=0.0, bar_style='info', description='Progress:', layout=Layout(height='25px', width='50%'),…"
            ]
          },
          "metadata": {},
          "output_type": "display_data"
        },
        {
          "name": "stdout",
          "output_type": "stream",
          "text": [
            "Model Performance Summary:\n",
            "Accuracy = 0.80\n",
            "Precision = 0.64\n",
            "Recall = 0.80\n",
            "F1 Score = 0.71\n",
            "AUC = 0.52"
          ]
        }
      ],
      "source": [
        "from pyspark.ml.evaluation import BinaryClassificationEvaluator, MulticlassClassificationEvaluator\n",
        "\n",
        "# Define the evaluators\n",
        "binary_evaluator = BinaryClassificationEvaluator(labelCol='churn')\n",
        "multi_evaluator = MulticlassClassificationEvaluator(labelCol='churn')\n",
        "\n",
        "# Compute the evaluation metrics\n",
        "accuracy = multi_evaluator.evaluate(predictions, {multi_evaluator.metricName: \"accuracy\"})\n",
        "precision = multi_evaluator.evaluate(predictions, {multi_evaluator.metricName: \"weightedPrecision\"})\n",
        "recall = multi_evaluator.evaluate(predictions, {multi_evaluator.metricName: \"weightedRecall\"})\n",
        "f1 = multi_evaluator.evaluate(predictions, {multi_evaluator.metricName: \"f1\"})\n",
        "auc = binary_evaluator.evaluate(predictions)\n",
        "\n",
        "# Print the evaluation metrics\n",
        "print(\"Model Performance Summary:\")\n",
        "print(\"Accuracy = {:.2f}\".format(accuracy))\n",
        "print(\"Precision = {:.2f}\".format(precision))\n",
        "print(\"Recall = {:.2f}\".format(recall))\n",
        "print(\"F1 Score = {:.2f}\".format(f1))\n",
        "print(\"AUC = {:.2f}\".format(auc))\n"
      ]
    },
    {
      "cell_type": "markdown",
      "id": "21cc214c",
      "metadata": {
        "id": "21cc214c"
      },
      "source": [
        "**We print the model performance metrics above. As you can see they are not any different than in the first instance. plus the interpretation is similar as before**"
      ]
    },
    {
      "cell_type": "markdown",
      "id": "31f02d82",
      "metadata": {
        "id": "31f02d82"
      },
      "source": [
        "**Below we print the objective history**\n",
        "\n",
        "The objective history represents the value of the objective function (the function being minimized during the optimization process) at each iteration of the model's training process. The values you see are the objective function values at each step of the training process."
      ]
    },
    {
      "cell_type": "code",
      "execution_count": null,
      "id": "f0d4d0a8",
      "metadata": {
        "colab": {
          "referenced_widgets": [
            "b3a9ef53dfc94327aa8063afd91fbd70",
            ""
          ]
        },
        "id": "f0d4d0a8",
        "outputId": "9197a46d-e3b0-4a31-8737-4305a9b19eb1"
      },
      "outputs": [
        {
          "data": {
            "application/vnd.jupyter.widget-view+json": {
              "model_id": "b3a9ef53dfc94327aa8063afd91fbd70",
              "version_major": 2,
              "version_minor": 0
            },
            "text/plain": [
              "VBox()"
            ]
          },
          "metadata": {},
          "output_type": "display_data"
        },
        {
          "data": {
            "application/vnd.jupyter.widget-view+json": {
              "model_id": "",
              "version_major": 2,
              "version_minor": 0
            },
            "text/plain": [
              "FloatProgress(value=0.0, bar_style='info', description='Progress:', layout=Layout(height='25px', width='50%'),…"
            ]
          },
          "metadata": {},
          "output_type": "display_data"
        },
        {
          "name": "stdout",
          "output_type": "stream",
          "text": [
            "ObjectiveHistory:\n",
            "0.5004024235381358\n",
            "0.499929761068848\n",
            "0.49989544698134775\n",
            "0.49989542872084336\n",
            "0.49989542870625786"
          ]
        },
        {
          "name": "stderr",
          "output_type": "stream",
          "text": [
            "Exception in thread cell_monitor-32:\n",
            "Traceback (most recent call last):\n",
            "  File \"/mnt/notebook-env/lib/python3.7/threading.py\", line 926, in _bootstrap_inner\n",
            "    self.run()\n",
            "  File \"/mnt/notebook-env/lib/python3.7/threading.py\", line 870, in run\n",
            "    self._target(*self._args, **self._kwargs)\n",
            "  File \"/mnt/notebook-env/lib/python3.7/site-packages/awseditorssparkmonitoringwidget-1.0-py3.7.egg/awseditorssparkmonitoringwidget/cellmonitor.py\", line 154, in cell_monitor\n",
            "    job_group_filtered_jobs = [job for job in jobs_data if job['jobGroup'] == str(statement_id)]\n",
            "  File \"/mnt/notebook-env/lib/python3.7/site-packages/awseditorssparkmonitoringwidget-1.0-py3.7.egg/awseditorssparkmonitoringwidget/cellmonitor.py\", line 154, in <listcomp>\n",
            "    job_group_filtered_jobs = [job for job in jobs_data if job['jobGroup'] == str(statement_id)]\n",
            "KeyError: 'jobGroup'\n",
            "\n"
          ]
        }
      ],
      "source": [
        "# Extract the summary from the LogisticRegressionModel instance trained\n",
        "trainingSummary = cvModel.bestModel.summary\n",
        "\n",
        "# Obtain the objective per iteration\n",
        "objectiveHistory = trainingSummary.objectiveHistory\n",
        "print(\"ObjectiveHistory:\")\n",
        "for objective in objectiveHistory:\n",
        "    print(objective)\n"
      ]
    },
    {
      "cell_type": "markdown",
      "id": "8d9b4bf8",
      "metadata": {
        "id": "8d9b4bf8"
      },
      "source": [
        "**Ideally**, we would like to see these values decrease with each iteration, which would indicate that the model is learning and improving. In this case, the values are indeed decreasing, which is a good sign.\n",
        "\n",
        "The fact that the values stop decreasing after the fourth iteration might indicate that the model has reached a point where it cannot improve further given the current data and hyperparameters. This could be due to the model reaching its capacity to learn from the given features, or due to the data not containing enough information to further reduce the objective function."
      ]
    },
    {
      "cell_type": "markdown",
      "id": "b5b82f4c",
      "metadata": {
        "id": "b5b82f4c"
      },
      "source": [
        "## Random Forest Implementation"
      ]
    },
    {
      "cell_type": "markdown",
      "id": "ecbde7a6",
      "metadata": {
        "id": "ecbde7a6"
      },
      "source": [
        "**As directed** we implement the **Random forest model** as well and proceed to calculate the model performance metrics and make comparisons with the **Logistic Regression model.** This will enable us compare these two models and recommend which is more effective given the dataset and context of the analysis."
      ]
    },
    {
      "cell_type": "code",
      "execution_count": null,
      "id": "9c166db6",
      "metadata": {
        "scrolled": true,
        "colab": {
          "referenced_widgets": [
            "28c8c77e9e974fc8822ea41644afff1f",
            ""
          ]
        },
        "id": "9c166db6",
        "outputId": "7542656b-74df-4d89-fbc5-cd6bcdb1e5dc"
      },
      "outputs": [
        {
          "data": {
            "application/vnd.jupyter.widget-view+json": {
              "model_id": "28c8c77e9e974fc8822ea41644afff1f",
              "version_major": 2,
              "version_minor": 0
            },
            "text/plain": [
              "VBox()"
            ]
          },
          "metadata": {},
          "output_type": "display_data"
        },
        {
          "data": {
            "application/vnd.jupyter.widget-view+json": {
              "model_id": "",
              "version_major": 2,
              "version_minor": 0
            },
            "text/plain": [
              "FloatProgress(value=0.0, bar_style='info', description='Progress:', layout=Layout(height='25px', width='50%'),…"
            ]
          },
          "metadata": {},
          "output_type": "display_data"
        },
        {
          "name": "stderr",
          "output_type": "stream",
          "text": [
            "Exception in thread cell_monitor-33:\n",
            "Traceback (most recent call last):\n",
            "  File \"/mnt/notebook-env/lib/python3.7/threading.py\", line 926, in _bootstrap_inner\n",
            "    self.run()\n",
            "  File \"/mnt/notebook-env/lib/python3.7/threading.py\", line 870, in run\n",
            "    self._target(*self._args, **self._kwargs)\n",
            "  File \"/mnt/notebook-env/lib/python3.7/site-packages/awseditorssparkmonitoringwidget-1.0-py3.7.egg/awseditorssparkmonitoringwidget/cellmonitor.py\", line 154, in cell_monitor\n",
            "    job_group_filtered_jobs = [job for job in jobs_data if job['jobGroup'] == str(statement_id)]\n",
            "  File \"/mnt/notebook-env/lib/python3.7/site-packages/awseditorssparkmonitoringwidget-1.0-py3.7.egg/awseditorssparkmonitoringwidget/cellmonitor.py\", line 154, in <listcomp>\n",
            "    job_group_filtered_jobs = [job for job in jobs_data if job['jobGroup'] == str(statement_id)]\n",
            "KeyError: 'jobGroup'\n",
            "\n"
          ]
        }
      ],
      "source": [
        "#we initialize the process by provisionin required packages and libraries\n",
        "from pyspark.ml.classification import RandomForestClassifier\n",
        "from pyspark.ml.tuning import ParamGridBuilder, CrossValidator\n",
        "from pyspark.ml.evaluation import BinaryClassificationEvaluator"
      ]
    },
    {
      "cell_type": "markdown",
      "id": "e1393060",
      "metadata": {
        "id": "e1393060"
      },
      "source": [
        "**Next** we implement the **Random Forest** **modeling, hyperparameter tuning** and make **predictions** on our test dataset"
      ]
    },
    {
      "cell_type": "code",
      "execution_count": null,
      "id": "837a5607",
      "metadata": {
        "colab": {
          "referenced_widgets": [
            "f3ffc43743fa44b9af66a66e9d774c63",
            ""
          ]
        },
        "id": "837a5607",
        "outputId": "1ee3a7c2-8c21-46fa-8a2b-dceb552411bd"
      },
      "outputs": [
        {
          "data": {
            "application/vnd.jupyter.widget-view+json": {
              "model_id": "f3ffc43743fa44b9af66a66e9d774c63",
              "version_major": 2,
              "version_minor": 0
            },
            "text/plain": [
              "VBox()"
            ]
          },
          "metadata": {},
          "output_type": "display_data"
        },
        {
          "data": {
            "application/vnd.jupyter.widget-view+json": {
              "model_id": "",
              "version_major": 2,
              "version_minor": 0
            },
            "text/plain": [
              "FloatProgress(value=0.0, bar_style='info', description='Progress:', layout=Layout(height='25px', width='50%'),…"
            ]
          },
          "metadata": {},
          "output_type": "display_data"
        },
        {
          "name": "stderr",
          "output_type": "stream",
          "text": [
            "Exception in thread cell_monitor-34:\n",
            "Traceback (most recent call last):\n",
            "  File \"/mnt/notebook-env/lib/python3.7/threading.py\", line 926, in _bootstrap_inner\n",
            "    self.run()\n",
            "  File \"/mnt/notebook-env/lib/python3.7/threading.py\", line 870, in run\n",
            "    self._target(*self._args, **self._kwargs)\n",
            "  File \"/mnt/notebook-env/lib/python3.7/site-packages/awseditorssparkmonitoringwidget-1.0-py3.7.egg/awseditorssparkmonitoringwidget/cellmonitor.py\", line 154, in cell_monitor\n",
            "    job_group_filtered_jobs = [job for job in jobs_data if job['jobGroup'] == str(statement_id)]\n",
            "  File \"/mnt/notebook-env/lib/python3.7/site-packages/awseditorssparkmonitoringwidget-1.0-py3.7.egg/awseditorssparkmonitoringwidget/cellmonitor.py\", line 154, in <listcomp>\n",
            "    job_group_filtered_jobs = [job for job in jobs_data if job['jobGroup'] == str(statement_id)]\n",
            "KeyError: 'jobGroup'\n",
            "\n"
          ]
        }
      ],
      "source": [
        "# Define the Random Forest model\n",
        "rf = RandomForestClassifier(featuresCol=\"scaledFeatures\", labelCol=\"churn\")"
      ]
    },
    {
      "cell_type": "code",
      "execution_count": null,
      "id": "5e72f939",
      "metadata": {
        "colab": {
          "referenced_widgets": [
            "f6f13460495b42ae9ed5220d17815fdc",
            ""
          ]
        },
        "id": "5e72f939",
        "outputId": "721604e7-f76b-444d-852c-b08cfa9e83fe"
      },
      "outputs": [
        {
          "data": {
            "application/vnd.jupyter.widget-view+json": {
              "model_id": "f6f13460495b42ae9ed5220d17815fdc",
              "version_major": 2,
              "version_minor": 0
            },
            "text/plain": [
              "VBox()"
            ]
          },
          "metadata": {},
          "output_type": "display_data"
        },
        {
          "data": {
            "application/vnd.jupyter.widget-view+json": {
              "model_id": "",
              "version_major": 2,
              "version_minor": 0
            },
            "text/plain": [
              "FloatProgress(value=0.0, bar_style='info', description='Progress:', layout=Layout(height='25px', width='50%'),…"
            ]
          },
          "metadata": {},
          "output_type": "display_data"
        },
        {
          "name": "stderr",
          "output_type": "stream",
          "text": [
            "Exception in thread cell_monitor-35:\n",
            "Traceback (most recent call last):\n",
            "  File \"/mnt/notebook-env/lib/python3.7/threading.py\", line 926, in _bootstrap_inner\n",
            "    self.run()\n",
            "  File \"/mnt/notebook-env/lib/python3.7/threading.py\", line 870, in run\n",
            "    self._target(*self._args, **self._kwargs)\n",
            "  File \"/mnt/notebook-env/lib/python3.7/site-packages/awseditorssparkmonitoringwidget-1.0-py3.7.egg/awseditorssparkmonitoringwidget/cellmonitor.py\", line 154, in cell_monitor\n",
            "    job_group_filtered_jobs = [job for job in jobs_data if job['jobGroup'] == str(statement_id)]\n",
            "  File \"/mnt/notebook-env/lib/python3.7/site-packages/awseditorssparkmonitoringwidget-1.0-py3.7.egg/awseditorssparkmonitoringwidget/cellmonitor.py\", line 154, in <listcomp>\n",
            "    job_group_filtered_jobs = [job for job in jobs_data if job['jobGroup'] == str(statement_id)]\n",
            "KeyError: 'jobGroup'\n",
            "\n"
          ]
        }
      ],
      "source": [
        "# Define the parameter grid for hyperparameter tuning\n",
        "paramGrid_rf = ParamGridBuilder() \\\n",
        "    .addGrid(rf.numTrees, [10, 20, 30]) \\\n",
        "    .addGrid(rf.maxDepth, [5, 10, 15]) \\\n",
        "    .addGrid(rf.maxBins, [32, 64, 128]) \\\n",
        "    .build()\n",
        "\n",
        "# Define the cross-validation\n",
        "crossval_rf = CrossValidator(estimator=rf,\n",
        "                             estimatorParamMaps=paramGrid_rf,\n",
        "                             evaluator=BinaryClassificationEvaluator(labelCol='churn'),\n",
        "                             numFolds=3)"
      ]
    },
    {
      "cell_type": "code",
      "execution_count": null,
      "id": "61056e03",
      "metadata": {
        "colab": {
          "referenced_widgets": [
            "9a6b08226bd640659a6701285d30098d",
            ""
          ]
        },
        "id": "61056e03",
        "outputId": "0bc5601e-901b-4941-fcf7-1ec343e28a6b"
      },
      "outputs": [
        {
          "data": {
            "application/vnd.jupyter.widget-view+json": {
              "model_id": "9a6b08226bd640659a6701285d30098d",
              "version_major": 2,
              "version_minor": 0
            },
            "text/plain": [
              "VBox()"
            ]
          },
          "metadata": {},
          "output_type": "display_data"
        },
        {
          "data": {
            "application/vnd.jupyter.widget-view+json": {
              "model_id": "",
              "version_major": 2,
              "version_minor": 0
            },
            "text/plain": [
              "FloatProgress(value=0.0, bar_style='info', description='Progress:', layout=Layout(height='25px', width='50%'),…"
            ]
          },
          "metadata": {},
          "output_type": "display_data"
        },
        {
          "name": "stderr",
          "output_type": "stream",
          "text": [
            "Exception in thread cell_monitor-36:\n",
            "Traceback (most recent call last):\n",
            "  File \"/mnt/notebook-env/lib/python3.7/threading.py\", line 926, in _bootstrap_inner\n",
            "    self.run()\n",
            "  File \"/mnt/notebook-env/lib/python3.7/threading.py\", line 870, in run\n",
            "    self._target(*self._args, **self._kwargs)\n",
            "  File \"/mnt/notebook-env/lib/python3.7/site-packages/awseditorssparkmonitoringwidget-1.0-py3.7.egg/awseditorssparkmonitoringwidget/cellmonitor.py\", line 154, in cell_monitor\n",
            "    job_group_filtered_jobs = [job for job in jobs_data if job['jobGroup'] == str(statement_id)]\n",
            "  File \"/mnt/notebook-env/lib/python3.7/site-packages/awseditorssparkmonitoringwidget-1.0-py3.7.egg/awseditorssparkmonitoringwidget/cellmonitor.py\", line 154, in <listcomp>\n",
            "    job_group_filtered_jobs = [job for job in jobs_data if job['jobGroup'] == str(statement_id)]\n",
            "KeyError: 'jobGroup'\n",
            "\n"
          ]
        }
      ],
      "source": [
        "# Run cross-validation, and choose the best set of parameters.\n",
        "cvModel_rf = crossval_rf.fit(scaled_data)"
      ]
    },
    {
      "cell_type": "code",
      "execution_count": null,
      "id": "608f337a",
      "metadata": {
        "colab": {
          "referenced_widgets": [
            "d3f352a0dd9648dbb5ecf646a7e72863",
            ""
          ]
        },
        "id": "608f337a",
        "outputId": "ebf81e08-23b2-4d52-bc18-beac8ddad9f5"
      },
      "outputs": [
        {
          "data": {
            "application/vnd.jupyter.widget-view+json": {
              "model_id": "d3f352a0dd9648dbb5ecf646a7e72863",
              "version_major": 2,
              "version_minor": 0
            },
            "text/plain": [
              "VBox()"
            ]
          },
          "metadata": {},
          "output_type": "display_data"
        },
        {
          "data": {
            "application/vnd.jupyter.widget-view+json": {
              "model_id": "",
              "version_major": 2,
              "version_minor": 0
            },
            "text/plain": [
              "FloatProgress(value=0.0, bar_style='info', description='Progress:', layout=Layout(height='25px', width='50%'),…"
            ]
          },
          "metadata": {},
          "output_type": "display_data"
        }
      ],
      "source": [
        "# Make predictions on the test data\n",
        "predictions_rf = cvModel_rf.transform(scaled_data)"
      ]
    },
    {
      "cell_type": "code",
      "execution_count": null,
      "id": "5f50ee09",
      "metadata": {
        "colab": {
          "referenced_widgets": [
            "1eb5570ad7804ec8b63643874ea78283",
            ""
          ]
        },
        "id": "5f50ee09",
        "outputId": "3d753c7f-def2-4094-d19f-a4ad32a554b4"
      },
      "outputs": [
        {
          "data": {
            "application/vnd.jupyter.widget-view+json": {
              "model_id": "1eb5570ad7804ec8b63643874ea78283",
              "version_major": 2,
              "version_minor": 0
            },
            "text/plain": [
              "VBox()"
            ]
          },
          "metadata": {},
          "output_type": "display_data"
        },
        {
          "data": {
            "application/vnd.jupyter.widget-view+json": {
              "model_id": "",
              "version_major": 2,
              "version_minor": 0
            },
            "text/plain": [
              "FloatProgress(value=0.0, bar_style='info', description='Progress:', layout=Layout(height='25px', width='50%'),…"
            ]
          },
          "metadata": {},
          "output_type": "display_data"
        },
        {
          "name": "stdout",
          "output_type": "stream",
          "text": [
            "+----------+-----+\n",
            "|prediction|churn|\n",
            "+----------+-----+\n",
            "|       1.0|    1|\n",
            "|       0.0|    0|\n",
            "|       0.0|    0|\n",
            "|       0.0|    0|\n",
            "|       0.0|    0|\n",
            "|       0.0|    0|\n",
            "|       0.0|    0|\n",
            "|       1.0|    1|\n",
            "|       0.0|    0|\n",
            "|       0.0|    0|\n",
            "|       0.0|    0|\n",
            "|       0.0|    0|\n",
            "|       1.0|    1|\n",
            "|       0.0|    0|\n",
            "|       0.0|    0|\n",
            "|       0.0|    0|\n",
            "|       0.0|    0|\n",
            "|       0.0|    0|\n",
            "|       0.0|    1|\n",
            "|       0.0|    0|\n",
            "+----------+-----+\n",
            "only showing top 20 rows"
          ]
        }
      ],
      "source": [
        "# Show predictions\n",
        "predictions_rf.select(\"prediction\", \"churn\").show()"
      ]
    },
    {
      "cell_type": "markdown",
      "id": "12d54d8a",
      "metadata": {
        "id": "12d54d8a"
      },
      "source": [
        "The output above is as expected."
      ]
    },
    {
      "cell_type": "markdown",
      "id": "ab4ebf30",
      "metadata": {
        "id": "ab4ebf30"
      },
      "source": [
        "**Random Forest Model Performance Evaluation Metrics**\n",
        "\n",
        "Below we calculate the performance metrics for the random forest model."
      ]
    },
    {
      "cell_type": "code",
      "execution_count": null,
      "id": "42c50e21",
      "metadata": {
        "colab": {
          "referenced_widgets": [
            "80a1578c2fec42038772cf721137a7bf",
            ""
          ]
        },
        "id": "42c50e21",
        "outputId": "c9e14d5b-53b3-4deb-9731-7123b9ce6714"
      },
      "outputs": [
        {
          "data": {
            "application/vnd.jupyter.widget-view+json": {
              "model_id": "80a1578c2fec42038772cf721137a7bf",
              "version_major": 2,
              "version_minor": 0
            },
            "text/plain": [
              "VBox()"
            ]
          },
          "metadata": {},
          "output_type": "display_data"
        },
        {
          "data": {
            "application/vnd.jupyter.widget-view+json": {
              "model_id": "",
              "version_major": 2,
              "version_minor": 0
            },
            "text/plain": [
              "FloatProgress(value=0.0, bar_style='info', description='Progress:', layout=Layout(height='25px', width='50%'),…"
            ]
          },
          "metadata": {},
          "output_type": "display_data"
        },
        {
          "name": "stdout",
          "output_type": "stream",
          "text": [
            "Model Performance Summary\n",
            "Accuracy = 0.904308\n",
            "Precision = 0.914253\n",
            "Recall = 0.904308\n",
            "F1 Score = 0.892045\n",
            "AUC = 0.989055"
          ]
        }
      ],
      "source": [
        "from pyspark.ml.evaluation import MulticlassClassificationEvaluator\n",
        "\n",
        "# Initialize the MulticlassClassificationEvaluator\n",
        "evaluator = MulticlassClassificationEvaluator(labelCol=\"churn\")\n",
        "\n",
        "# Compute the classification error on test data.\n",
        "accuracy = evaluator.evaluate(predictions_rf, {evaluator.metricName: \"accuracy\"})\n",
        "precision = evaluator.evaluate(predictions_rf, {evaluator.metricName: \"weightedPrecision\"})\n",
        "recall = evaluator.evaluate(predictions_rf, {evaluator.metricName: \"weightedRecall\"})\n",
        "f1 = evaluator.evaluate(predictions_rf, {evaluator.metricName: \"f1\"})\n",
        "\n",
        "# Binary classification evaluator\n",
        "evaluator_binary = BinaryClassificationEvaluator(labelCol=\"churn\")\n",
        "auc = evaluator_binary.evaluate(predictions_rf, {evaluator_binary.metricName: \"areaUnderROC\"})\n",
        "\n",
        "print(\"Model Performance Summary\")\n",
        "print(\"Accuracy = %g\" % accuracy)\n",
        "print(\"Precision = %g\" % precision)\n",
        "print(\"Recall = %g\" % recall)\n",
        "print(\"F1 Score = %g\" % f1)\n",
        "print(\"AUC = %g\" % auc)\n"
      ]
    },
    {
      "cell_type": "markdown",
      "id": "a216ed29",
      "metadata": {
        "id": "a216ed29"
      },
      "source": [
        "- Accuracy (0.904308): This is the proportion of total predictions that were correct. So, about 90.43% of the time, the model is predicting whether a customer churns correctly.\n",
        "\n",
        "- Precision (0.914253): Precision answers the question \"what proportion of positive identifications were actually correct?\" A precision score of 0.914 means that when the model predicts customer churn, it is correct about 91.43% of the time.\n",
        "\n",
        "- Recall (0.904308): Recall answers the question \"what proportion of actual positives was identified correctly?\" So, the model correctly identifies 90.43% of all actual customer churns.\n",
        "\n",
        "- F1 Score (0.892045): The F1 score is a harmonic mean of precision and recall. An F1 score reaches its best value at 1 (perfect precision and recall) and worst at 0. In this case, an F1 score of 0.892 suggests that the model has fairly high precision and recall.\n",
        "\n",
        "- AUC (0.989055): AUC stands for \"Area under the ROC Curve.\" An AUC score of 1 indicates perfect classifier performance, while an AUC score of 0.5 indicates a model that is as good as random. An AUC of approximately 0.989 suggests that the model does an excellent job distinguishing between customers who churn and those who don't"
      ]
    },
    {
      "cell_type": "markdown",
      "id": "d45eb169",
      "metadata": {
        "id": "d45eb169"
      },
      "source": [
        "The feature Importances attribute of the trained RandomForestClassifier model gives the importance of each feature in predicting the target variable. This can be useful for understanding which features the model considers most informative. We proceed to extract this key component below:"
      ]
    },
    {
      "cell_type": "code",
      "execution_count": null,
      "id": "3c5f6192",
      "metadata": {
        "colab": {
          "referenced_widgets": [
            "ac809da064a34b7cb3b9fdfed1378c4d",
            ""
          ]
        },
        "id": "3c5f6192",
        "outputId": "bed9b7be-4445-496e-96a1-61e6177ae7a0"
      },
      "outputs": [
        {
          "data": {
            "application/vnd.jupyter.widget-view+json": {
              "model_id": "ac809da064a34b7cb3b9fdfed1378c4d",
              "version_major": 2,
              "version_minor": 0
            },
            "text/plain": [
              "VBox()"
            ]
          },
          "metadata": {},
          "output_type": "display_data"
        },
        {
          "data": {
            "application/vnd.jupyter.widget-view+json": {
              "model_id": "",
              "version_major": 2,
              "version_minor": 0
            },
            "text/plain": [
              "FloatProgress(value=0.0, bar_style='info', description='Progress:', layout=Layout(height='25px', width='50%'),…"
            ]
          },
          "metadata": {},
          "output_type": "display_data"
        },
        {
          "name": "stdout",
          "output_type": "stream",
          "text": [
            "('pincode_index', 0.14294714425806412)\n",
            "('gender_index', 0.023270155269575758)\n",
            "('city_index', 0.056293380275098795)\n",
            "('state_index', 0.0956011433751396)\n",
            "('telecom_partner_index', 0.04746933925398193)\n",
            "('age', 0.11924668501717675)\n",
            "('num_dependents', 0.054331782880906475)\n",
            "('estimated_salary', 0.11578005955582733)\n",
            "('calls_made', 0.11639221636724442)\n",
            "('sms_sent', 0.11124689650985864)\n",
            "('data_used', 0.11742119723712621)"
          ]
        }
      ],
      "source": [
        "# Get the feature importances\n",
        "importances = cvModel_rf.bestModel.featureImportances\n",
        "\n",
        "# Map feature names to importances\n",
        "feature_importances = list(zip(assemblerInputs, importances))\n",
        "\n",
        "for feature in feature_importances:\n",
        "    print(feature)\n"
      ]
    },
    {
      "cell_type": "markdown",
      "id": "f81735f5",
      "metadata": {
        "id": "f81735f5"
      },
      "source": [
        "**In terms of interpretation** **~ technical and managerial insights**"
      ]
    },
    {
      "cell_type": "markdown",
      "id": "01d085bd",
      "metadata": {
        "id": "01d085bd"
      },
      "source": [
        "The feature importance values represent the relative contribution of each feature to the prediction model. Specifically, these values indicate how important each feature is in making accurate predictions of the target variable. The importance of a feature is computed as the (normalized) total reduction of the criterion brought by that feature.\n",
        "\n",
        "Looking at the output printed above:\n",
        "\n",
        "- The 'pincode_index' has the highest feature importance score (0.1429), indicating that it is the most influential variable in predicting customer churn in the Random Forest model. This might suggest that customers from certain areas (represented by pin codes) are more likely to churn than others.\n",
        "- The 'data_used' (0.1174), 'calls_made' (0.1164), 'estimated_salary' (0.1158), and 'age' (0.1192) also have relatively high importance, suggesting that these factors significantly influence the churn prediction.\n",
        "- 'gender_index' (0.0233) has the lowest feature importance, indicating it has the least influence on predicting customer churn in the model.\n",
        "\n",
        "It is important to keep in mind that correlation does not equal causation ~ feature importance in this case doesn't imply causality—it just means those are the features that the model found most useful for making accurate predictions, based on the patterns it found in the training data. Also, while pincode, for instance, is an important feature, it doesn't necessarily mean that changing pincode will change churn. It's more likely that pincode is associated with other factors (like different marketing campaigns, regional trends, etc.) that influence churn.\n"
      ]
    },
    {
      "cell_type": "markdown",
      "id": "0c12efe6",
      "metadata": {
        "id": "0c12efe6"
      },
      "source": [
        "**IN SUMMARY**\n",
        "\n",
        "\n",
        "From a technical point of view, the random forest model appears to have higher prediction performance in comparision to the logistic regression model. Of course this is based on the dataset used in this analysis.\n",
        "\n",
        "From our random forest features' importance scores, it apears that a number of variables features (outlined above) are worthy of further investigation as their scores/estimates suggest they play an important role in churn prediction.\n",
        "\n",
        "By and large, a certain threshold and balance of domain knowledge and technical experience hold significance relevance to making sense of the numbers estimates from this research.  \n",
        "\n",
        "Nonetheless, If we had to make a recommendation to the technical and managerial team of our client's organization, we would likely recomend the Random Forest model for extensive further and rigorous evaluation and analysis after which it can then be adopted and deployed at a production level."
      ]
    },
    {
      "cell_type": "code",
      "execution_count": null,
      "id": "f1062a04",
      "metadata": {
        "id": "f1062a04"
      },
      "outputs": [],
      "source": []
    },
    {
      "cell_type": "code",
      "execution_count": null,
      "id": "a776e33c",
      "metadata": {
        "id": "a776e33c"
      },
      "outputs": [],
      "source": []
    }
  ],
  "metadata": {
    "kernelspec": {
      "display_name": "PySpark",
      "language": "python",
      "name": "pysparkkernel"
    },
    "language_info": {
      "codemirror_mode": {
        "name": "python",
        "version": 3
      },
      "file_extension": ".py",
      "mimetype": "text/x-python",
      "name": "pyspark",
      "pygments_lexer": "python3"
    },
    "colab": {
      "provenance": []
    }
  },
  "nbformat": 4,
  "nbformat_minor": 5
}